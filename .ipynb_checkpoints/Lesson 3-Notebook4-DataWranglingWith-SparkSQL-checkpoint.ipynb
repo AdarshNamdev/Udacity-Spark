{
 "cells": [
  {
   "cell_type": "markdown",
   "id": "128eff5a",
   "metadata": {},
   "source": [
    "# Data Wrangling with Spark SQL Quiz\n",
    "\n",
    "This quiz uses the same dataset and most of the same questions from the earlier \"Quiz - Data Wrangling with Data Frames Jupyter Notebook.\" For this quiz, however, use Spark SQL instead of Spark Data Frames."
   ]
  },
  {
   "cell_type": "code",
   "execution_count": 2,
   "id": "015f24c0",
   "metadata": {},
   "outputs": [
    {
     "name": "stdout",
     "output_type": "stream",
     "text": [
      "+--------------------+---------+---------+------+-------------+---------+---------+-----+--------------------+------+--------+-------------+---------+--------------------+------+-------------+--------------------+------+\n",
      "|              artist|     auth|firstName|gender|itemInSession| lastName|   length|level|            location|method|    page| registration|sessionId|                song|status|           ts|           userAgent|userId|\n",
      "+--------------------+---------+---------+------+-------------+---------+---------+-----+--------------------+------+--------+-------------+---------+--------------------+------+-------------+--------------------+------+\n",
      "|       Showaddywaddy|Logged In|  Kenneth|     M|          112| Matthews|232.93342| paid|Charlotte-Concord...|   PUT|NextSong|1509380319284|     5132|Christmas Tears W...|   200|1513720872284|\"Mozilla/5.0 (Win...|  1046|\n",
      "|          Lily Allen|Logged In|Elizabeth|     F|            7|    Chase|195.23873| free|Shreveport-Bossie...|   PUT|NextSong|1512718541284|     5027|       Cheryl Tweedy|   200|1513720878284|\"Mozilla/5.0 (Win...|  1000|\n",
      "|Cobra Starship Fe...|Logged In|     Vera|     F|            6|Blackwell|196.20526| paid|          Racine, WI|   PUT|NextSong|1499855749284|     5516|Good Girls Go Bad...|   200|1513720881284|\"Mozilla/5.0 (Mac...|  2219|\n",
      "|          Alex Smoke|Logged In|   Sophee|     F|            8|   Barker|405.99465| paid|San Luis Obispo-P...|   PUT|NextSong|1513009647284|     2372| Don't See The Point|   200|1513720905284|\"Mozilla/5.0 (Win...|  2373|\n",
      "|                null|Logged In|   Jordyn|     F|            0|    Jones|     null| free|        Syracuse, NY|   GET|    Home|1513648531284|     1746|                null|   200|1513720913284|\"Mozilla/5.0 (Mac...|  1747|\n",
      "+--------------------+---------+---------+------+-------------+---------+---------+-----+--------------------+------+--------+-------------+---------+--------------------+------+-------------+--------------------+------+\n",
      "only showing top 5 rows\n",
      "\n"
     ]
    }
   ],
   "source": [
    "from pyspark.sql import SparkSession\n",
    "\n",
    "spark = SparkSession.builder.appName(\"SparkSQL\").getOrCreate()\n",
    "user_log = spark.read.json(r\"data/sparkify_log_small.json\")\n",
    "user_log.show(5)\n",
    "# TODOS: \n",
    "# 1) import any other libraries you might need\n",
    "# 2) instantiate a Spark session \n",
    "# 3) read in the data set located at the path \"data/sparkify_log_small.json\"\n",
    "# 4) create a view to use with your SQL queries\n",
    "# 5) write code to answer the quiz questions "
   ]
  },
  {
   "cell_type": "code",
   "execution_count": 3,
   "id": "c82da998",
   "metadata": {},
   "outputs": [
    {
     "name": "stdout",
     "output_type": "stream",
     "text": [
      "+------+--------+\n",
      "|userID|    page|\n",
      "+------+--------+\n",
      "|  1046|NextSong|\n",
      "|  1000|NextSong|\n",
      "|  2219|NextSong|\n",
      "|  2373|NextSong|\n",
      "|  1747|    Home|\n",
      "|  1747|Settings|\n",
      "|  1162|NextSong|\n",
      "|  1061|NextSong|\n",
      "|   748|    Home|\n",
      "|   597|    Home|\n",
      "|  1806|NextSong|\n",
      "|   748|NextSong|\n",
      "|  1176|NextSong|\n",
      "|  2164|NextSong|\n",
      "|  2146|NextSong|\n",
      "|  2219|NextSong|\n",
      "|  1176|    Home|\n",
      "|  2904|NextSong|\n",
      "|   597|NextSong|\n",
      "|   226|NextSong|\n",
      "+------+--------+\n",
      "only showing top 20 rows\n",
      "\n"
     ]
    }
   ],
   "source": [
    "# creating a temporary view inorder to query the data.\n",
    "\n",
    "user_log.createOrReplaceTempView(\"user_log_view\")\n",
    "spark.sql(\"\"\"\n",
    "          select userID, page from user_log_view            \n",
    "          \"\"\").show()\n"
   ]
  },
  {
   "cell_type": "markdown",
   "id": "1753c9e7",
   "metadata": {},
   "source": [
    "# Question 1\n",
    "\n",
    "Which page did user id \"\"(empty string) NOT visit?"
   ]
  },
  {
   "cell_type": "code",
   "execution_count": 18,
   "id": "5aa56346",
   "metadata": {},
   "outputs": [
    {
     "name": "stdout",
     "output_type": "stream",
     "text": [
      "+----------------+\n",
      "|  PageNotVisited|\n",
      "+----------------+\n",
      "|Submit Downgrade|\n",
      "|       Downgrade|\n",
      "|          Logout|\n",
      "|   Save Settings|\n",
      "|        Settings|\n",
      "|        NextSong|\n",
      "|         Upgrade|\n",
      "|           Error|\n",
      "|  Submit Upgrade|\n",
      "+----------------+\n",
      "\n"
     ]
    }
   ],
   "source": [
    "spark.sql(\"\"\"\n",
    "          select distinct page as PageNotVisited\n",
    "          from user_log_view\n",
    "          where page not in (select distinct page from user_log_view where userId = \"\")\n",
    "\n",
    "         \"\"\").show()"
   ]
  },
  {
   "cell_type": "code",
   "execution_count": 7,
   "id": "f075ef40",
   "metadata": {},
   "outputs": [
    {
     "name": "stdout",
     "output_type": "stream",
     "text": [
      "+----------------+\n",
      "| NotVisitedPages|\n",
      "+----------------+\n",
      "|Submit Downgrade|\n",
      "|            Home|\n",
      "|       Downgrade|\n",
      "|          Logout|\n",
      "|   Save Settings|\n",
      "|           About|\n",
      "|        Settings|\n",
      "|           Login|\n",
      "|        NextSong|\n",
      "|            Help|\n",
      "|         Upgrade|\n",
      "|           Error|\n",
      "|  Submit Upgrade|\n",
      "+----------------+\n",
      "\n"
     ]
    }
   ],
   "source": [
    "spark.sql(\"\"\"\n",
    "          select distinct page as NotVisitedPages\n",
    "          from user_log_view\"\"\").show()"
   ]
  },
  {
   "cell_type": "markdown",
   "id": "eedd158b",
   "metadata": {},
   "source": [
    "# Question 2 - Reflect\n",
    "\n",
    "Why might you prefer to use SQL over data frames? Why might you prefer data frames over SQL?"
   ]
  },
  {
   "cell_type": "markdown",
   "id": "5c5fd384",
   "metadata": {},
   "source": [
    "# Question 3\n",
    "\n",
    "How many female users do we have in the data set?"
   ]
  },
  {
   "cell_type": "code",
   "execution_count": 23,
   "id": "812b3196",
   "metadata": {},
   "outputs": [
    {
     "name": "stdout",
     "output_type": "stream",
     "text": [
      "+------------+\n",
      "|TotalFemales|\n",
      "+------------+\n",
      "|         462|\n",
      "+------------+\n",
      "\n"
     ]
    }
   ],
   "source": [
    "spark.sql\\\n",
    "(\"\"\"\n",
    "select count(distinct userId) as TotalFemales\n",
    "from user_log_view\n",
    "where gender = 'F'\n",
    "\"\"\").show()"
   ]
  },
  {
   "cell_type": "markdown",
   "id": "b0d5229c",
   "metadata": {},
   "source": [
    "# Question 4\n",
    "\n",
    "How many songs were played from the most played artist?"
   ]
  },
  {
   "cell_type": "code",
   "execution_count": 24,
   "id": "34ea00e9",
   "metadata": {},
   "outputs": [
    {
     "name": "stdout",
     "output_type": "stream",
     "text": [
      "root\n",
      " |-- artist: string (nullable = true)\n",
      " |-- auth: string (nullable = true)\n",
      " |-- firstName: string (nullable = true)\n",
      " |-- gender: string (nullable = true)\n",
      " |-- itemInSession: long (nullable = true)\n",
      " |-- lastName: string (nullable = true)\n",
      " |-- length: double (nullable = true)\n",
      " |-- level: string (nullable = true)\n",
      " |-- location: string (nullable = true)\n",
      " |-- method: string (nullable = true)\n",
      " |-- page: string (nullable = true)\n",
      " |-- registration: long (nullable = true)\n",
      " |-- sessionId: long (nullable = true)\n",
      " |-- song: string (nullable = true)\n",
      " |-- status: long (nullable = true)\n",
      " |-- ts: long (nullable = true)\n",
      " |-- userAgent: string (nullable = true)\n",
      " |-- userId: string (nullable = true)\n",
      "\n"
     ]
    }
   ],
   "source": [
    "user_log.printSchema()"
   ]
  },
  {
   "cell_type": "code",
   "execution_count": 44,
   "id": "3ec31a35",
   "metadata": {},
   "outputs": [
    {
     "name": "stdout",
     "output_type": "stream",
     "text": [
      "+--------------------+-----------+\n",
      "|              artist|total_songs|\n",
      "+--------------------+-----------+\n",
      "|            Coldplay|         83|\n",
      "|       Kings Of Leon|         69|\n",
      "|Florence + The Ma...|         52|\n",
      "|            BjÃÂ¶rk|         46|\n",
      "|       Dwight Yoakam|         45|\n",
      "|       Justin Bieber|         43|\n",
      "|      The Black Keys|         40|\n",
      "|         OneRepublic|         37|\n",
      "|        Jack Johnson|         36|\n",
      "|                Muse|         36|\n",
      "|           Radiohead|         31|\n",
      "|        Taylor Swift|         29|\n",
      "|          Lily Allen|         28|\n",
      "|Barry Tuckwell/Ac...|         28|\n",
      "|               Train|         28|\n",
      "|          Nickelback|         27|\n",
      "|           Metallica|         27|\n",
      "|           Daft Punk|         27|\n",
      "|          Kanye West|         26|\n",
      "|          John Mayer|         24|\n",
      "+--------------------+-----------+\n",
      "only showing top 20 rows\n",
      "\n",
      "+----------------+\n",
      "|max(total_songs)|\n",
      "+----------------+\n",
      "|              83|\n",
      "+----------------+\n",
      "\n"
     ]
    }
   ],
   "source": [
    "# TODO: write your code to answer question 4\n",
    "\n",
    "# Solution #1\n",
    "\n",
    "fam_artist = spark.sql(\"\"\"\n",
    "                       select artist, count(song) as total_songs\n",
    "                       from user_log_view\n",
    "                       group by artist\n",
    "                       order by total_songs desc\n",
    "                       \"\"\").collect()\n",
    "\n",
    "#fam_artist.createOrReplaceTempView(\"most_played_artist\")\n",
    "fam_artist_df = spark.createDataFrame(fam_artist, schema = ['artist', 'total_songs'])\n",
    "fam_artist_df.show()\n",
    "\n",
    "fam_artist_df.createOrReplaceTempView(\"most_played_artist_view\")\n",
    "spark.sql(\"select max(total_songs) from most_played_artist_view\").show()"
   ]
  },
  {
   "cell_type": "code",
   "execution_count": 43,
   "id": "1ab7710a",
   "metadata": {},
   "outputs": [
    {
     "name": "stdout",
     "output_type": "stream",
     "text": [
      "+--------+-----+\n",
      "|  Artist|plays|\n",
      "+--------+-----+\n",
      "|Coldplay|   83|\n",
      "+--------+-----+\n",
      "\n"
     ]
    }
   ],
   "source": [
    "# Solution #2\n",
    "\n",
    "spark.sql(\"SELECT Artist, COUNT(Artist) AS plays \\\n",
    "        FROM user_log_view \\\n",
    "        GROUP BY Artist \\\n",
    "        ORDER BY plays DESC \\\n",
    "        LIMIT 1\").show()"
   ]
  },
  {
   "cell_type": "markdown",
   "id": "631e668b",
   "metadata": {},
   "source": [
    "# Question 5 (challenge)\n",
    "\n",
    "How many songs do users listen to on average between visiting our home page? Please round your answer to the closest integer."
   ]
  },
  {
   "cell_type": "code",
   "execution_count": null,
   "id": "3a5432ff",
   "metadata": {},
   "outputs": [],
   "source": [
    "# TODO: write your code to answer question 5"
   ]
  },
  {
   "cell_type": "code",
   "execution_count": null,
   "id": "716fc099",
   "metadata": {},
   "outputs": [],
   "source": [
    "# I HAVE NO IDEA WHAT THIS QUESTION IS TRYING TO CONVEY AND HENCE CANNOT WRITE THIS CODE!"
   ]
  }
 ],
 "metadata": {
  "kernelspec": {
   "display_name": "Python 3",
   "language": "python",
   "name": "python3"
  },
  "language_info": {
   "codemirror_mode": {
    "name": "ipython",
    "version": 3
   },
   "file_extension": ".py",
   "mimetype": "text/x-python",
   "name": "python",
   "nbconvert_exporter": "python",
   "pygments_lexer": "ipython3",
   "version": "3.8.8"
  }
 },
 "nbformat": 4,
 "nbformat_minor": 5
}
