{
 "cells": [
  {
   "cell_type": "code",
   "execution_count": 1,
   "id": "e55c8cdb-28ba-48d2-8325-5aaad96548e4",
   "metadata": {},
   "outputs": [],
   "source": [
    "from pyspark.sql import SparkSession\n"
   ]
  },
  {
   "cell_type": "code",
   "execution_count": 2,
   "id": "20f91a51",
   "metadata": {},
   "outputs": [],
   "source": [
    "import datetime\n",
    "from pyspark.sql.functions import asc_nulls_first, asc"
   ]
  },
  {
   "cell_type": "code",
   "execution_count": 3,
   "id": "a5c4ec9a",
   "metadata": {},
   "outputs": [],
   "source": [
    "import datetime\n",
    "from pyspark.sql.functions import asc_nulls_first, asc"
   ]
  },
  {
   "cell_type": "code",
   "execution_count": 4,
   "id": "c6eb78d4-bb10-48de-abd4-5518e938bbe6",
   "metadata": {},
   "outputs": [],
   "source": [
    "spark = SparkSession\\\n",
    "        .builder\\\n",
    "        .appName(\"Data Wrangling with DataFrame\")\\\n",
    "        .getOrCreate()"
   ]
  },
  {
   "cell_type": "code",
   "execution_count": 5,
   "id": "02ce7881-8ee4-4249-9684-667eead8ab6e",
   "metadata": {},
   "outputs": [],
   "source": [
    "filelocation = r\"D:\\Github\\Udacity-Spark\\sparkify_log_small.json\"\n",
    "user_log = spark.read.json(filelocation)"
   ]
  },
  {
   "cell_type": "code",
   "execution_count": 6,
   "id": "ada36026-09f5-4b05-abd1-15f1c11f4a18",
   "metadata": {},
   "outputs": [
    {
     "name": "stdout",
     "output_type": "stream",
     "text": [
      "+-------+-----------------+----------+---------+------+------------------+--------+-----------------+-----+------------+------+-------+--------------------+------------------+--------+------------------+-------------------+--------------------+------------------+\n",
      "|summary|           artist|      auth|firstName|gender|     itemInSession|lastName|           length|level|    location|method|   page|        registration|         sessionId|    song|            status|                 ts|           userAgent|            userId|\n",
      "+-------+-----------------+----------+---------+------+------------------+--------+-----------------+-----+------------+------+-------+--------------------+------------------+--------+------------------+-------------------+--------------------+------------------+\n",
      "|  count|             8347|     10000|     9664|  9664|             10000|    9664|             8347|10000|        9664| 10000|  10000|                9664|             10000|    8347|             10000|              10000|                9664|             10000|\n",
      "|   mean|            461.0|      null|     null|  null|           19.6734|    null|249.6486587492506| null|        null|  null|   null|1.504695369588739...|         4436.7511|Infinity|          202.8984| 1.5137859954164E12|                null|1442.4413286423842|\n",
      "| stddev|            300.0|      null|     null|  null|25.382114916132604|    null| 95.0043713078146| null|        null|  null|   null| 8.473142521316572E9|2043.1281541827561|     NaN|18.041791154505876|3.290828862360883E7|                null| 829.8909432082621|\n",
      "|    min|              !!!|     Guest|   Aakash|     F|                 0| Acevedo|          1.12281| free|Aberdeen, WA|   GET|  About|       1463503881284|                 9|      #1|               200|      1513720872284|\"Mozilla/5.0 (Mac...|                  |\n",
      "|    max|ÃÂlafur Arnalds|Logged Out|     Zoie|     M|               163|  Zuniga|        1806.8371| paid|    Yuma, AZ|   PUT|Upgrade|       1513760702284|              7144|wingless|               404|      1513848349284|Mozilla/5.0 (comp...|               999|\n",
      "+-------+-----------------+----------+---------+------+------------------+--------+-----------------+-----+------------+------+-------+--------------------+------------------+--------+------------------+-------------------+--------------------+------------------+\n",
      "\n"
     ]
    }
   ],
   "source": [
    "user_log.describe().show(truncate = True)"
   ]
  },
  {
   "cell_type": "code",
   "execution_count": 7,
   "id": "bd6c5a42-fd7f-4fe2-9006-4ba8dbb55b3c",
   "metadata": {},
   "outputs": [
    {
     "name": "stdout",
     "output_type": "stream",
     "text": [
      "root\n",
      " |-- artist: string (nullable = true)\n",
      " |-- auth: string (nullable = true)\n",
      " |-- firstName: string (nullable = true)\n",
      " |-- gender: string (nullable = true)\n",
      " |-- itemInSession: long (nullable = true)\n",
      " |-- lastName: string (nullable = true)\n",
      " |-- length: double (nullable = true)\n",
      " |-- level: string (nullable = true)\n",
      " |-- location: string (nullable = true)\n",
      " |-- method: string (nullable = true)\n",
      " |-- page: string (nullable = true)\n",
      " |-- registration: long (nullable = true)\n",
      " |-- sessionId: long (nullable = true)\n",
      " |-- song: string (nullable = true)\n",
      " |-- status: long (nullable = true)\n",
      " |-- ts: long (nullable = true)\n",
      " |-- userAgent: string (nullable = true)\n",
      " |-- userId: string (nullable = true)\n",
      "\n"
     ]
    }
   ],
   "source": [
    "user_log.printSchema()"
   ]
  },
  {
   "cell_type": "code",
   "execution_count": 8,
   "id": "eab9c242-f9ed-48b0-af22-df22d761c956",
   "metadata": {},
   "outputs": [
    {
     "name": "stdout",
     "output_type": "stream",
     "text": [
      "+-------+-------+\n",
      "|summary|   page|\n",
      "+-------+-------+\n",
      "|  count|  10000|\n",
      "|   mean|   null|\n",
      "| stddev|   null|\n",
      "|    min|  About|\n",
      "|    max|Upgrade|\n",
      "+-------+-------+\n",
      "\n"
     ]
    }
   ],
   "source": [
    "user_log.describe(\"page\").show()"
   ]
  },
  {
   "cell_type": "code",
   "execution_count": 9,
   "id": "cfd35534-411b-442b-832f-c9d25ff75fea",
   "metadata": {},
   "outputs": [
    {
     "name": "stdout",
     "output_type": "stream",
     "text": [
      "+----------------+\n",
      "|            page|\n",
      "+----------------+\n",
      "|Submit Downgrade|\n",
      "|            Home|\n",
      "|       Downgrade|\n",
      "|          Logout|\n",
      "|   Save Settings|\n",
      "|           About|\n",
      "|        Settings|\n",
      "|           Login|\n",
      "|        NextSong|\n",
      "|            Help|\n",
      "|         Upgrade|\n",
      "|           Error|\n",
      "|  Submit Upgrade|\n",
      "+----------------+\n",
      "\n"
     ]
    }
   ],
   "source": [
    "user_log.select(\"page\").dropDuplicates().show()"
   ]
  },
  {
   "cell_type": "code",
   "execution_count": 10,
   "id": "4fd6c13a-41a5-445e-bf93-212d2c348ef5",
   "metadata": {},
   "outputs": [
    {
     "name": "stdout",
     "output_type": "stream",
     "text": [
      "+----------------+\n",
      "|            page|\n",
      "+----------------+\n",
      "|           About|\n",
      "|       Downgrade|\n",
      "|           Error|\n",
      "|            Help|\n",
      "|            Home|\n",
      "|           Login|\n",
      "|          Logout|\n",
      "|        NextSong|\n",
      "|   Save Settings|\n",
      "|        Settings|\n",
      "|Submit Downgrade|\n",
      "|  Submit Upgrade|\n",
      "|         Upgrade|\n",
      "+----------------+\n",
      "\n"
     ]
    }
   ],
   "source": [
    "user_log.select(\"page\").dropDuplicates().sort(\"page\").show()"
   ]
  },
  {
   "cell_type": "code",
   "execution_count": 11,
   "id": "8039874f-601e-448d-bc55-6ee8a079d11f",
   "metadata": {},
   "outputs": [
    {
     "name": "stdout",
     "output_type": "stream",
     "text": [
      "+----------------+\n",
      "|            page|\n",
      "+----------------+\n",
      "|         Upgrade|\n",
      "|  Submit Upgrade|\n",
      "|Submit Downgrade|\n",
      "|        Settings|\n",
      "|   Save Settings|\n",
      "|        NextSong|\n",
      "|          Logout|\n",
      "|           Login|\n",
      "|            Home|\n",
      "|            Help|\n",
      "|           Error|\n",
      "|       Downgrade|\n",
      "|           About|\n",
      "+----------------+\n",
      "\n"
     ]
    }
   ],
   "source": [
    "from pyspark.sql.functions import desc             # 'desc' method is for sorting a column in descending order.\n",
    "\n",
    "user_log.select(\"page\").dropDuplicates().orderBy(desc(\"page\")).show()"
   ]
  },
  {
   "cell_type": "markdown",
   "id": "c1955a03-1127-4e65-bc28-cd54542e4fb2",
   "metadata": {},
   "source": [
    "#### Selecting a few columns from the dataframe...."
   ]
  },
  {
   "cell_type": "code",
   "execution_count": 12,
   "id": "cd33ff64-51df-4f37-afea-25a48271144b",
   "metadata": {},
   "outputs": [
    {
     "name": "stdout",
     "output_type": "stream",
     "text": [
      "+------+---------+--------+--------+----------------------------------------------------+\n",
      "|userId|firstName|lastName|page    |song                                                |\n",
      "+------+---------+--------+--------+----------------------------------------------------+\n",
      "|1046  |Kenneth  |Matthews|NextSong|Christmas Tears Will Fall                           |\n",
      "|1046  |Kenneth  |Matthews|NextSong|Be Wary Of A Woman                                  |\n",
      "|1046  |Kenneth  |Matthews|NextSong|Public Enemy No.1                                   |\n",
      "|1046  |Kenneth  |Matthews|NextSong|Reign Of The Tyrants                                |\n",
      "|1046  |Kenneth  |Matthews|NextSong|Father And Son                                      |\n",
      "|1046  |Kenneth  |Matthews|NextSong|No. 5                                               |\n",
      "|1046  |Kenneth  |Matthews|NextSong|Seventeen                                           |\n",
      "|1046  |Kenneth  |Matthews|Home    |null                                                |\n",
      "|1046  |Kenneth  |Matthews|NextSong|War on war                                          |\n",
      "|1046  |Kenneth  |Matthews|NextSong|Killermont Street                                   |\n",
      "|1046  |Kenneth  |Matthews|NextSong|Black & Blue                                        |\n",
      "|1046  |Kenneth  |Matthews|Logout  |null                                                |\n",
      "|1046  |Kenneth  |Matthews|Home    |null                                                |\n",
      "|1046  |Kenneth  |Matthews|NextSong|Heads Will Roll                                     |\n",
      "|1046  |Kenneth  |Matthews|NextSong|Bleed It Out [Live At Milton Keynes]                |\n",
      "|1046  |Kenneth  |Matthews|NextSong|Clocks                                              |\n",
      "|1046  |Kenneth  |Matthews|NextSong|Love Rain                                           |\n",
      "|1046  |Kenneth  |Matthews|NextSong|Ry Ry's Song (Album Version)                        |\n",
      "|1046  |Kenneth  |Matthews|NextSong|The Invisible Man                                   |\n",
      "|1046  |Kenneth  |Matthews|NextSong|Catch You Baby (Steve Pitron & Max Sanna Radio Edit)|\n",
      "+------+---------+--------+--------+----------------------------------------------------+\n",
      "only showing top 20 rows\n",
      "\n"
     ]
    }
   ],
   "source": [
    "user_log.select([\"userId\", \"firstName\", \"lastName\", \"page\", \"song\"]).where(user_log.userId == \"1046\").show(truncate = False)"
   ]
  },
  {
   "cell_type": "code",
   "execution_count": 13,
   "id": "482e280b-fcd1-403f-a0b0-a11537dcd0c1",
   "metadata": {},
   "outputs": [
    {
     "data": {
      "text/plain": [
       "[Row(userId='1046', firstName='Kenneth', page='NextSong', song='Christmas Tears Will Fall'),\n",
       " Row(userId='1046', firstName='Kenneth', page='NextSong', song='Be Wary Of A Woman'),\n",
       " Row(userId='1046', firstName='Kenneth', page='NextSong', song='Public Enemy No.1'),\n",
       " Row(userId='1046', firstName='Kenneth', page='NextSong', song='Reign Of The Tyrants'),\n",
       " Row(userId='1046', firstName='Kenneth', page='NextSong', song='Father And Son'),\n",
       " Row(userId='1046', firstName='Kenneth', page='NextSong', song='No. 5'),\n",
       " Row(userId='1046', firstName='Kenneth', page='NextSong', song='Seventeen'),\n",
       " Row(userId='1046', firstName='Kenneth', page='Home', song=None),\n",
       " Row(userId='1046', firstName='Kenneth', page='NextSong', song='War on war'),\n",
       " Row(userId='1046', firstName='Kenneth', page='NextSong', song='Killermont Street'),\n",
       " Row(userId='1046', firstName='Kenneth', page='NextSong', song='Black & Blue'),\n",
       " Row(userId='1046', firstName='Kenneth', page='Logout', song=None),\n",
       " Row(userId='1046', firstName='Kenneth', page='Home', song=None),\n",
       " Row(userId='1046', firstName='Kenneth', page='NextSong', song='Heads Will Roll'),\n",
       " Row(userId='1046', firstName='Kenneth', page='NextSong', song='Bleed It Out [Live At Milton Keynes]'),\n",
       " Row(userId='1046', firstName='Kenneth', page='NextSong', song='Clocks'),\n",
       " Row(userId='1046', firstName='Kenneth', page='NextSong', song='Love Rain'),\n",
       " Row(userId='1046', firstName='Kenneth', page='NextSong', song=\"Ry Ry's Song (Album Version)\"),\n",
       " Row(userId='1046', firstName='Kenneth', page='NextSong', song='The Invisible Man'),\n",
       " Row(userId='1046', firstName='Kenneth', page='NextSong', song='Catch You Baby (Steve Pitron & Max Sanna Radio Edit)'),\n",
       " Row(userId='1046', firstName='Kenneth', page='NextSong', song='Ask The Mountains'),\n",
       " Row(userId='1046', firstName='Kenneth', page='NextSong', song='Given Up (Album Version)'),\n",
       " Row(userId='1046', firstName='Kenneth', page='NextSong', song='El Cuatrero'),\n",
       " Row(userId='1046', firstName='Kenneth', page='NextSong', song='Hero/Heroine'),\n",
       " Row(userId='1046', firstName='Kenneth', page='NextSong', song='Spring'),\n",
       " Row(userId='1046', firstName='Kenneth', page='NextSong', song='Rising Moon'),\n",
       " Row(userId='1046', firstName='Kenneth', page='NextSong', song='Tough Little Boys'),\n",
       " Row(userId='1046', firstName='Kenneth', page='NextSong', song=\"Qu'Est-Ce Que T'Es Belle\"),\n",
       " Row(userId='1046', firstName='Kenneth', page='NextSong', song='Secrets'),\n",
       " Row(userId='1046', firstName='Kenneth', page='NextSong', song='Under The Gun')]"
      ]
     },
     "execution_count": 13,
     "metadata": {},
     "output_type": "execute_result"
    }
   ],
   "source": [
    "user_log.select([\"userId\", \"firstName\", \"page\", \"song\"]).where(user_log.userId == \"1046\").collect()"
   ]
  },
  {
   "cell_type": "code",
   "execution_count": 14,
   "id": "a1ed0e8c-e122-44cc-bc36-6099f0eb1a35",
   "metadata": {},
   "outputs": [
    {
     "name": "stdout",
     "output_type": "stream",
     "text": [
      "root\n",
      " |-- artist: string (nullable = true)\n",
      " |-- auth: string (nullable = true)\n",
      " |-- firstName: string (nullable = true)\n",
      " |-- gender: string (nullable = true)\n",
      " |-- itemInSession: long (nullable = true)\n",
      " |-- lastName: string (nullable = true)\n",
      " |-- length: double (nullable = true)\n",
      " |-- level: string (nullable = true)\n",
      " |-- location: string (nullable = true)\n",
      " |-- method: string (nullable = true)\n",
      " |-- page: string (nullable = true)\n",
      " |-- registration: long (nullable = true)\n",
      " |-- sessionId: long (nullable = true)\n",
      " |-- song: string (nullable = true)\n",
      " |-- status: long (nullable = true)\n",
      " |-- ts: long (nullable = true)\n",
      " |-- userAgent: string (nullable = true)\n",
      " |-- userId: string (nullable = true)\n",
      "\n"
     ]
    }
   ],
   "source": [
    "user_log.printSchema()"
   ]
  },
  {
   "cell_type": "code",
   "execution_count": 15,
   "id": "3cc4bd00-0c84-4cee-840f-dbcc7b408621",
   "metadata": {},
   "outputs": [
    {
     "name": "stdout",
     "output_type": "stream",
     "text": [
      "+-------------+\n",
      "|           ts|\n",
      "+-------------+\n",
      "|1513720872284|\n",
      "|1513720878284|\n",
      "|1513720881284|\n",
      "|1513720905284|\n",
      "|1513720913284|\n",
      "|1513720932284|\n",
      "|1513720955284|\n",
      "|1513720959284|\n",
      "|1513720959284|\n",
      "|1513720980284|\n",
      "|1513720983284|\n",
      "|1513720993284|\n",
      "|1513721031284|\n",
      "|1513721045284|\n",
      "|1513721058284|\n",
      "|1513721077284|\n",
      "|1513721088284|\n",
      "|1513721095284|\n",
      "|1513721097284|\n",
      "|1513721104284|\n",
      "+-------------+\n",
      "only showing top 20 rows\n",
      "\n"
     ]
    }
   ],
   "source": [
    "user_log.select(\"ts\").show()"
   ]
  },
  {
   "cell_type": "code",
   "execution_count": 16,
   "id": "662f4d37",
   "metadata": {},
   "outputs": [
    {
     "name": "stdout",
     "output_type": "stream",
     "text": [
      "+-------+-------+\n",
      "|summary|   page|\n",
      "+-------+-------+\n",
      "|  count|  10000|\n",
      "|   mean|   null|\n",
      "| stddev|   null|\n",
      "|    min|  About|\n",
      "|    max|Upgrade|\n",
      "+-------+-------+\n",
      "\n"
     ]
    }
   ],
   "source": [
    "user_log.describe(\"page\").show()"
   ]
  },
  {
   "cell_type": "code",
   "execution_count": 17,
   "id": "d06d542e",
   "metadata": {},
   "outputs": [
    {
     "name": "stdout",
     "output_type": "stream",
     "text": [
      "+----------------+\n",
      "|            page|\n",
      "+----------------+\n",
      "|Submit Downgrade|\n",
      "|            Home|\n",
      "|       Downgrade|\n",
      "|          Logout|\n",
      "|   Save Settings|\n",
      "|           About|\n",
      "|        Settings|\n",
      "|           Login|\n",
      "|        NextSong|\n",
      "|            Help|\n",
      "|         Upgrade|\n",
      "|           Error|\n",
      "|  Submit Upgrade|\n",
      "+----------------+\n",
      "\n"
     ]
    }
   ],
   "source": [
    "user_log.select(\"page\").distinct().show()"
   ]
  },
  {
   "cell_type": "code",
   "execution_count": 18,
   "id": "8693f7c6",
   "metadata": {},
   "outputs": [
    {
     "name": "stdout",
     "output_type": "stream",
     "text": [
      "+----------------+\n",
      "|            page|\n",
      "+----------------+\n",
      "|Submit Downgrade|\n",
      "|            Home|\n",
      "|       Downgrade|\n",
      "|          Logout|\n",
      "|   Save Settings|\n",
      "|           About|\n",
      "|        Settings|\n",
      "|           Login|\n",
      "|        NextSong|\n",
      "|            Help|\n",
      "|         Upgrade|\n",
      "|           Error|\n",
      "|  Submit Upgrade|\n",
      "+----------------+\n",
      "\n"
     ]
    }
   ],
   "source": [
    "user_log.select(\"page\").drop_duplicates().show()"
   ]
  },
  {
   "cell_type": "code",
   "execution_count": 19,
   "id": "42615fb6",
   "metadata": {},
   "outputs": [
    {
     "data": {
      "text/plain": [
       "Row(artist='Showaddywaddy', auth='Logged In', firstName='Kenneth', gender='M', itemInSession=112, lastName='Matthews', length=232.93342, level='paid', location='Charlotte-Concord-Gastonia, NC-SC', method='PUT', page='NextSong', registration=1509380319284, sessionId=5132, song='Christmas Tears Will Fall', status=200, ts=1513720872284, userAgent='\"Mozilla/5.0 (Windows NT 6.1) AppleWebKit/537.36 (KHTML, like Gecko) Chrome/36.0.1985.125 Safari/537.36\"', userId='1046')"
      ]
     },
     "execution_count": 19,
     "metadata": {},
     "output_type": "execute_result"
    }
   ],
   "source": [
    "user_log.head() # just a simple check!"
   ]
  },
  {
   "cell_type": "markdown",
   "id": "3d812360",
   "metadata": {},
   "source": [
    "## Calculating statistics by Hour"
   ]
  },
  {
   "cell_type": "markdown",
   "id": "bdfa5677-fb06-4c76-9fa1-66d0cae7f402",
   "metadata": {},
   "source": [
    "#### finding at what particular hour does a user plays a particular song."
   ]
  },
  {
   "cell_type": "code",
   "execution_count": 20,
   "id": "07f1bcd5-b18c-472d-a1a7-e7e7e7eeb664",
   "metadata": {},
   "outputs": [],
   "source": [
    "# this is a user defined function (UDF)\n",
    "\n",
    "from pyspark.sql.functions import udf\n",
    "\n",
    "get_hour = udf(lambda x: datetime.datetime.fromtimestamp(x/1000.0).hour)"
   ]
  },
  {
   "cell_type": "code",
   "execution_count": 21,
   "id": "fae2f25a-65f9-4c64-990c-2630ca14eaab",
   "metadata": {},
   "outputs": [],
   "source": [
    "user_log = user_log.withColumn(\"hour\", get_hour(user_log.ts))"
   ]
  },
  {
   "cell_type": "code",
   "execution_count": 22,
   "id": "54aac804-467c-4d24-b377-f3e006ef2e1e",
   "metadata": {},
   "outputs": [
    {
     "data": {
      "text/plain": [
       "Row(artist='Showaddywaddy', auth='Logged In', firstName='Kenneth', gender='M', itemInSession=112, lastName='Matthews', length=232.93342, level='paid', location='Charlotte-Concord-Gastonia, NC-SC', method='PUT', page='NextSong', registration=1509380319284, sessionId=5132, song='Christmas Tears Will Fall', status=200, ts=1513720872284, userAgent='\"Mozilla/5.0 (Windows NT 6.1) AppleWebKit/537.36 (KHTML, like Gecko) Chrome/36.0.1985.125 Safari/537.36\"', userId='1046', hour='3')"
      ]
     },
     "execution_count": 22,
     "metadata": {},
     "output_type": "execute_result"
    }
   ],
   "source": [
    "user_log.head()"
   ]
  },
  {
   "cell_type": "code",
   "execution_count": 23,
   "id": "ecf6e898-c4e5-4854-9dc7-5d3eb6781d26",
   "metadata": {},
   "outputs": [
    {
     "data": {
      "text/plain": [
       "10000"
      ]
     },
     "execution_count": 23,
     "metadata": {},
     "output_type": "execute_result"
    }
   ],
   "source": [
    "user_log.count()"
   ]
  },
  {
   "cell_type": "code",
   "execution_count": 24,
   "id": "de2afd99-8245-48a2-9b76-e49130d51b6e",
   "metadata": {},
   "outputs": [
    {
     "data": {
      "text/plain": [
       "[Row(artist='Showaddywaddy', auth='Logged In', firstName='Kenneth', gender='M', itemInSession=112, lastName='Matthews', length=232.93342, level='paid', location='Charlotte-Concord-Gastonia, NC-SC', method='PUT', page='NextSong', registration=1509380319284, sessionId=5132, song='Christmas Tears Will Fall', status=200, ts=1513720872284, userAgent='\"Mozilla/5.0 (Windows NT 6.1) AppleWebKit/537.36 (KHTML, like Gecko) Chrome/36.0.1985.125 Safari/537.36\"', userId='1046', hour='3'),\n",
       " Row(artist='Lily Allen', auth='Logged In', firstName='Elizabeth', gender='F', itemInSession=7, lastName='Chase', length=195.23873, level='free', location='Shreveport-Bossier City, LA', method='PUT', page='NextSong', registration=1512718541284, sessionId=5027, song='Cheryl Tweedy', status=200, ts=1513720878284, userAgent='\"Mozilla/5.0 (Windows NT 6.1) AppleWebKit/537.36 (KHTML, like Gecko) Chrome/36.0.1985.143 Safari/537.36\"', userId='1000', hour='3'),\n",
       " Row(artist='Cobra Starship Featuring Leighton Meester', auth='Logged In', firstName='Vera', gender='F', itemInSession=6, lastName='Blackwell', length=196.20526, level='paid', location='Racine, WI', method='PUT', page='NextSong', registration=1499855749284, sessionId=5516, song='Good Girls Go Bad (Feat.Leighton Meester) (Album Version)', status=200, ts=1513720881284, userAgent='\"Mozilla/5.0 (Macintosh; Intel Mac OS X 10_9_4) AppleWebKit/537.78.2 (KHTML, like Gecko) Version/7.0.6 Safari/537.78.2\"', userId='2219', hour='3'),\n",
       " Row(artist='Alex Smoke', auth='Logged In', firstName='Sophee', gender='F', itemInSession=8, lastName='Barker', length=405.99465, level='paid', location='San Luis Obispo-Paso Robles-Arroyo Grande, CA', method='PUT', page='NextSong', registration=1513009647284, sessionId=2372, song=\"Don't See The Point\", status=200, ts=1513720905284, userAgent='\"Mozilla/5.0 (Windows NT 6.1; WOW64) AppleWebKit/537.36 (KHTML, like Gecko) Chrome/36.0.1985.143 Safari/537.36\"', userId='2373', hour='3'),\n",
       " Row(artist=None, auth='Logged In', firstName='Jordyn', gender='F', itemInSession=0, lastName='Jones', length=None, level='free', location='Syracuse, NY', method='GET', page='Home', registration=1513648531284, sessionId=1746, song=None, status=200, ts=1513720913284, userAgent='\"Mozilla/5.0 (Macintosh; Intel Mac OS X 10_9_4) AppleWebKit/537.36 (KHTML, like Gecko) Chrome/37.0.2062.94 Safari/537.36\"', userId='1747', hour='3')]"
      ]
     },
     "execution_count": 24,
     "metadata": {},
     "output_type": "execute_result"
    }
   ],
   "source": [
    "user_log.take(5)"
   ]
  },
  {
   "cell_type": "code",
   "execution_count": 25,
   "id": "8ba9d174",
   "metadata": {},
   "outputs": [
    {
     "name": "stdout",
     "output_type": "stream",
     "text": [
      "+--------------------+---------+---------+------+-------------+---------+---------+-----+--------------------+------+--------+-------------+---------+--------------------+------+-------------+--------------------+------+----+\n",
      "|              artist|     auth|firstName|gender|itemInSession| lastName|   length|level|            location|method|    page| registration|sessionId|                song|status|           ts|           userAgent|userId|hour|\n",
      "+--------------------+---------+---------+------+-------------+---------+---------+-----+--------------------+------+--------+-------------+---------+--------------------+------+-------------+--------------------+------+----+\n",
      "|       Showaddywaddy|Logged In|  Kenneth|     M|          112| Matthews|232.93342| paid|Charlotte-Concord...|   PUT|NextSong|1509380319284|     5132|Christmas Tears W...|   200|1513720872284|\"Mozilla/5.0 (Win...|  1046|   3|\n",
      "|          Lily Allen|Logged In|Elizabeth|     F|            7|    Chase|195.23873| free|Shreveport-Bossie...|   PUT|NextSong|1512718541284|     5027|       Cheryl Tweedy|   200|1513720878284|\"Mozilla/5.0 (Win...|  1000|   3|\n",
      "|Cobra Starship Fe...|Logged In|     Vera|     F|            6|Blackwell|196.20526| paid|          Racine, WI|   PUT|NextSong|1499855749284|     5516|Good Girls Go Bad...|   200|1513720881284|\"Mozilla/5.0 (Mac...|  2219|   3|\n",
      "|          Alex Smoke|Logged In|   Sophee|     F|            8|   Barker|405.99465| paid|San Luis Obispo-P...|   PUT|NextSong|1513009647284|     2372| Don't See The Point|   200|1513720905284|\"Mozilla/5.0 (Win...|  2373|   3|\n",
      "|                null|Logged In|   Jordyn|     F|            0|    Jones|     null| free|        Syracuse, NY|   GET|    Home|1513648531284|     1746|                null|   200|1513720913284|\"Mozilla/5.0 (Mac...|  1747|   3|\n",
      "|                null|Logged In|   Jordyn|     F|            1|    Jones|     null| free|        Syracuse, NY|   GET|Settings|1513648531284|     1746|                null|   200|1513720932284|\"Mozilla/5.0 (Mac...|  1747|   3|\n",
      "|              Redman|Logged In|    Paige|     F|            0|   Hunter|154.53995| free|       Brownwood, TX|   PUT|NextSong|1498414068284|     4406|        Smoke Buddah|   200|1513720955284|\"Mozilla/5.0 (Mac...|  1162|   3|\n",
      "|     Ulrich Schnauss|Logged In|  Gabriel|     M|            2|     Koch|402.93832| paid|     Panama City, FL|   PUT|NextSong|1505820418284|     1060|           On My Own|   200|1513720959284|Mozilla/5.0 (Wind...|  1061|   3|\n",
      "|                null|Logged In|    Mason|     M|            2|   Thomas|     null| paid|Indianapolis-Carm...|   GET|    Home|1487015656284|     5661|                null|   200|1513720959284|Mozilla/5.0 (comp...|   748|   3|\n",
      "|                null|Logged In|Alexander|     M|            0|    Short|     null| free|       Green Bay, WI|   GET|    Home|1513594398284|     3689|                null|   200|1513720980284|\"Mozilla/5.0 (Win...|   597|   3|\n",
      "|               Jay-Z|Logged In|  Micheal|     M|           23|   Morgan|223.26812| paid|        Sterling, CO|   PUT|NextSong|1485051492284|     5175|Heart Of The City...|   200|1513720983284|\"Mozilla/5.0 (Win...|  1806|   3|\n",
      "|         Evanescence|Logged In|    Mason|     M|            3|   Thomas|237.11302| paid|Indianapolis-Carm...|   PUT|NextSong|1487015656284|     5661|    Bring Me To Life|   200|1513720993284|Mozilla/5.0 (comp...|   748|   3|\n",
      "|     Scissor Sisters|Logged In|   Justin|     M|           82|    Jones|218.01751| paid|          Dayton, TN|   PUT|NextSong|1504706730284|     1175|               Laura|   200|1513721031284|\"Mozilla/5.0 (Win...|  1176|   3|\n",
      "|        3 Doors Down|Logged In|     Zoie|     F|           28|   Wright|237.13914| paid|Chicago-Napervill...|   PUT|NextSong|1512172030284|     2163|    Here Without You|   200|1513721045284|\"Mozilla/5.0 (Mac...|  2164|   3|\n",
      "|       George Younce|Logged In|  Malachi|     M|            3|     Lane|191.68608| free|     Sioux Falls, SD|   PUT|NextSong|1510109243284|     5272|This Old House w/...|   200|1513721058284|Mozilla/5.0 (Wind...|  2146|   3|\n",
      "|              Aly-Us|Logged In|     Vera|     F|            7|Blackwell|383.58159| paid|          Racine, WI|   PUT|NextSong|1499855749284|     5516|Follow Me (Club Mix)|   200|1513721077284|\"Mozilla/5.0 (Mac...|  2219|   3|\n",
      "|                null|Logged In|   Justin|     M|           83|    Jones|     null| paid|          Dayton, TN|   GET|    Home|1504706730284|     1175|                null|   200|1513721088284|\"Mozilla/5.0 (Win...|  1176|   3|\n",
      "|            BjÃÂ¶rk|Logged In|    Elena|     F|            0|   Newman|348.57751| free|Boston-Cambridge-...|   PUT|NextSong|1513494341284|     2903|                Undo|   200|1513721095284|Mozilla/5.0 (Wind...|  2904|   3|\n",
      "|      David Bromberg|Logged In|Alexander|     M|            1|    Short|146.36363| free|       Green Bay, WI|   PUT|NextSong|1513594398284|     3689|Sheebeg And Sheemore|   200|1513721097284|\"Mozilla/5.0 (Win...|   597|   3|\n",
      "|          Nickelback|Logged In|  Abigail|     F|            4| Davidson|238.18404| paid|Lansing-East Lans...|   PUT|NextSong|1513173389284|     4591|Far Away (Album V...|   200|1513721104284|\"Mozilla/5.0 (Mac...|   226|   3|\n",
      "+--------------------+---------+---------+------+-------------+---------+---------+-----+--------------------+------+--------+-------------+---------+--------------------+------+-------------+--------------------+------+----+\n",
      "only showing top 20 rows\n",
      "\n"
     ]
    }
   ],
   "source": [
    "user_log.show()"
   ]
  },
  {
   "cell_type": "code",
   "execution_count": 26,
   "id": "b202e67d",
   "metadata": {},
   "outputs": [
    {
     "name": "stdout",
     "output_type": "stream",
     "text": [
      "+----+\n",
      "|hour|\n",
      "+----+\n",
      "|   7|\n",
      "|  15|\n",
      "|  11|\n",
      "|   3|\n",
      "|   8|\n",
      "|  22|\n",
      "|  16|\n",
      "|   0|\n",
      "|   5|\n",
      "|  18|\n",
      "|  17|\n",
      "|   6|\n",
      "|  19|\n",
      "|  23|\n",
      "|   9|\n",
      "|   1|\n",
      "|  20|\n",
      "|  10|\n",
      "|   4|\n",
      "|  12|\n",
      "+----+\n",
      "only showing top 20 rows\n",
      "\n"
     ]
    }
   ],
   "source": [
    "user_log.select('hour').distinct().show()"
   ]
  },
  {
   "cell_type": "code",
   "execution_count": 27,
   "id": "b752e6f4",
   "metadata": {},
   "outputs": [
    {
     "data": {
      "text/plain": [
       "336"
      ]
     },
     "execution_count": 27,
     "metadata": {},
     "output_type": "execute_result"
    }
   ],
   "source": [
    "user_log.filter(user_log[\"userID\"] == \"\").count()"
   ]
  },
  {
   "cell_type": "code",
   "execution_count": 28,
   "id": "6cbc7d6c",
   "metadata": {},
   "outputs": [
    {
     "name": "stdout",
     "output_type": "stream",
     "text": [
      "+-------+------------------+\n",
      "|summary|            userID|\n",
      "+-------+------------------+\n",
      "|  count|             10000|\n",
      "|   mean|1442.4413286423842|\n",
      "| stddev| 829.8909432082621|\n",
      "|    min|                  |\n",
      "|    max|               999|\n",
      "+-------+------------------+\n",
      "\n"
     ]
    }
   ],
   "source": [
    "user_log.select(\"userID\").describe().show()"
   ]
  },
  {
   "cell_type": "code",
   "execution_count": 29,
   "id": "4e8221bf",
   "metadata": {},
   "outputs": [
    {
     "name": "stdout",
     "output_type": "stream",
     "text": [
      "root\n",
      " |-- artist: string (nullable = true)\n",
      " |-- auth: string (nullable = true)\n",
      " |-- firstName: string (nullable = true)\n",
      " |-- gender: string (nullable = true)\n",
      " |-- itemInSession: long (nullable = true)\n",
      " |-- lastName: string (nullable = true)\n",
      " |-- length: double (nullable = true)\n",
      " |-- level: string (nullable = true)\n",
      " |-- location: string (nullable = true)\n",
      " |-- method: string (nullable = true)\n",
      " |-- page: string (nullable = true)\n",
      " |-- registration: long (nullable = true)\n",
      " |-- sessionId: long (nullable = true)\n",
      " |-- song: string (nullable = true)\n",
      " |-- status: long (nullable = true)\n",
      " |-- ts: long (nullable = true)\n",
      " |-- userAgent: string (nullable = true)\n",
      " |-- userId: string (nullable = true)\n",
      " |-- hour: string (nullable = true)\n",
      "\n"
     ]
    }
   ],
   "source": [
    "user_log.printSchema()"
   ]
  },
  {
   "cell_type": "code",
   "execution_count": 30,
   "id": "fe8cb889",
   "metadata": {},
   "outputs": [
    {
     "name": "stdout",
     "output_type": "stream",
     "text": [
      "+------+\n",
      "|userID|\n",
      "+------+\n",
      "|      |\n",
      "|    10|\n",
      "|   100|\n",
      "|  1000|\n",
      "|  1003|\n",
      "|  1005|\n",
      "|  1006|\n",
      "|  1017|\n",
      "|  1019|\n",
      "|  1020|\n",
      "|  1022|\n",
      "|  1025|\n",
      "|  1030|\n",
      "|  1035|\n",
      "|  1037|\n",
      "|   104|\n",
      "|  1040|\n",
      "|  1042|\n",
      "|  1043|\n",
      "|  1046|\n",
      "+------+\n",
      "only showing top 20 rows\n",
      "\n"
     ]
    }
   ],
   "source": [
    "user_log.select(\"userID\").dropDuplicates().sort(\"userID\").show()"
   ]
  },
  {
   "cell_type": "code",
   "execution_count": 31,
   "id": "ecfce851",
   "metadata": {},
   "outputs": [
    {
     "name": "stdout",
     "output_type": "stream",
     "text": [
      "+------+\n",
      "|userID|\n",
      "+------+\n",
      "|      |\n",
      "|    10|\n",
      "|   100|\n",
      "|  1000|\n",
      "|  1003|\n",
      "|  1005|\n",
      "|  1006|\n",
      "|  1017|\n",
      "|  1019|\n",
      "|  1020|\n",
      "|  1022|\n",
      "|  1025|\n",
      "|  1030|\n",
      "|  1035|\n",
      "|  1037|\n",
      "|   104|\n",
      "|  1040|\n",
      "|  1042|\n",
      "|  1043|\n",
      "|  1046|\n",
      "+------+\n",
      "only showing top 20 rows\n",
      "\n"
     ]
    }
   ],
   "source": [
    "user_log.select(\"userID\").distinct().sort(\"userID\").show()"
   ]
  },
  {
   "cell_type": "markdown",
   "id": "cf69c279",
   "metadata": {},
   "source": [
    "**Since we are having empty UserIDs hence its wise to remove them from the dataframe.!**"
   ]
  },
  {
   "cell_type": "code",
   "execution_count": 32,
   "id": "ad336e5b",
   "metadata": {},
   "outputs": [
    {
     "name": "stdout",
     "output_type": "stream",
     "text": [
      "+--------------------+---------+---------+------+-------------+---------+---------+-----+--------------------+------+--------+-------------+---------+--------------------+------+-------------+--------------------+------+----+\n",
      "|              artist|     auth|firstName|gender|itemInSession| lastName|   length|level|            location|method|    page| registration|sessionId|                song|status|           ts|           userAgent|userId|hour|\n",
      "+--------------------+---------+---------+------+-------------+---------+---------+-----+--------------------+------+--------+-------------+---------+--------------------+------+-------------+--------------------+------+----+\n",
      "|       Showaddywaddy|Logged In|  Kenneth|     M|          112| Matthews|232.93342| paid|Charlotte-Concord...|   PUT|NextSong|1509380319284|     5132|Christmas Tears W...|   200|1513720872284|\"Mozilla/5.0 (Win...|  1046|   3|\n",
      "|          Lily Allen|Logged In|Elizabeth|     F|            7|    Chase|195.23873| free|Shreveport-Bossie...|   PUT|NextSong|1512718541284|     5027|       Cheryl Tweedy|   200|1513720878284|\"Mozilla/5.0 (Win...|  1000|   3|\n",
      "|Cobra Starship Fe...|Logged In|     Vera|     F|            6|Blackwell|196.20526| paid|          Racine, WI|   PUT|NextSong|1499855749284|     5516|Good Girls Go Bad...|   200|1513720881284|\"Mozilla/5.0 (Mac...|  2219|   3|\n",
      "|          Alex Smoke|Logged In|   Sophee|     F|            8|   Barker|405.99465| paid|San Luis Obispo-P...|   PUT|NextSong|1513009647284|     2372| Don't See The Point|   200|1513720905284|\"Mozilla/5.0 (Win...|  2373|   3|\n",
      "|                null|Logged In|   Jordyn|     F|            0|    Jones|     null| free|        Syracuse, NY|   GET|    Home|1513648531284|     1746|                null|   200|1513720913284|\"Mozilla/5.0 (Mac...|  1747|   3|\n",
      "+--------------------+---------+---------+------+-------------+---------+---------+-----+--------------------+------+--------+-------------+---------+--------------------+------+-------------+--------------------+------+----+\n",
      "only showing top 5 rows\n",
      "\n"
     ]
    }
   ],
   "source": [
    "user_log_valid = user_log.filter(user_log[\"UserID\"] != \"\")\n",
    "user_log_valid.show(5)"
   ]
  },
  {
   "cell_type": "code",
   "execution_count": 33,
   "id": "74210887",
   "metadata": {},
   "outputs": [
    {
     "data": {
      "text/html": [
       "<div>\n",
       "<style scoped>\n",
       "    .dataframe tbody tr th:only-of-type {\n",
       "        vertical-align: middle;\n",
       "    }\n",
       "\n",
       "    .dataframe tbody tr th {\n",
       "        vertical-align: top;\n",
       "    }\n",
       "\n",
       "    .dataframe thead th {\n",
       "        text-align: right;\n",
       "    }\n",
       "</style>\n",
       "<table border=\"1\" class=\"dataframe\">\n",
       "  <thead>\n",
       "    <tr style=\"text-align: right;\">\n",
       "      <th></th>\n",
       "      <th>artist</th>\n",
       "      <th>auth</th>\n",
       "      <th>firstName</th>\n",
       "      <th>gender</th>\n",
       "      <th>itemInSession</th>\n",
       "      <th>lastName</th>\n",
       "      <th>length</th>\n",
       "      <th>level</th>\n",
       "      <th>location</th>\n",
       "      <th>method</th>\n",
       "      <th>page</th>\n",
       "      <th>registration</th>\n",
       "      <th>sessionId</th>\n",
       "      <th>song</th>\n",
       "      <th>status</th>\n",
       "      <th>ts</th>\n",
       "      <th>userAgent</th>\n",
       "      <th>userId</th>\n",
       "      <th>hour</th>\n",
       "    </tr>\n",
       "  </thead>\n",
       "  <tbody>\n",
       "    <tr>\n",
       "      <th>0</th>\n",
       "      <td>Showaddywaddy</td>\n",
       "      <td>Logged In</td>\n",
       "      <td>Kenneth</td>\n",
       "      <td>M</td>\n",
       "      <td>112</td>\n",
       "      <td>Matthews</td>\n",
       "      <td>232.93342</td>\n",
       "      <td>paid</td>\n",
       "      <td>Charlotte-Concord-Gastonia, NC-SC</td>\n",
       "      <td>PUT</td>\n",
       "      <td>NextSong</td>\n",
       "      <td>1509380319284</td>\n",
       "      <td>5132</td>\n",
       "      <td>Christmas Tears Will Fall</td>\n",
       "      <td>200</td>\n",
       "      <td>1513720872284</td>\n",
       "      <td>\"Mozilla/5.0 (Windows NT 6.1) AppleWebKit/537....</td>\n",
       "      <td>1046</td>\n",
       "      <td>3</td>\n",
       "    </tr>\n",
       "    <tr>\n",
       "      <th>1</th>\n",
       "      <td>Lily Allen</td>\n",
       "      <td>Logged In</td>\n",
       "      <td>Elizabeth</td>\n",
       "      <td>F</td>\n",
       "      <td>7</td>\n",
       "      <td>Chase</td>\n",
       "      <td>195.23873</td>\n",
       "      <td>free</td>\n",
       "      <td>Shreveport-Bossier City, LA</td>\n",
       "      <td>PUT</td>\n",
       "      <td>NextSong</td>\n",
       "      <td>1512718541284</td>\n",
       "      <td>5027</td>\n",
       "      <td>Cheryl Tweedy</td>\n",
       "      <td>200</td>\n",
       "      <td>1513720878284</td>\n",
       "      <td>\"Mozilla/5.0 (Windows NT 6.1) AppleWebKit/537....</td>\n",
       "      <td>1000</td>\n",
       "      <td>3</td>\n",
       "    </tr>\n",
       "    <tr>\n",
       "      <th>2</th>\n",
       "      <td>Cobra Starship Featuring Leighton Meester</td>\n",
       "      <td>Logged In</td>\n",
       "      <td>Vera</td>\n",
       "      <td>F</td>\n",
       "      <td>6</td>\n",
       "      <td>Blackwell</td>\n",
       "      <td>196.20526</td>\n",
       "      <td>paid</td>\n",
       "      <td>Racine, WI</td>\n",
       "      <td>PUT</td>\n",
       "      <td>NextSong</td>\n",
       "      <td>1499855749284</td>\n",
       "      <td>5516</td>\n",
       "      <td>Good Girls Go Bad (Feat.Leighton Meester) (Alb...</td>\n",
       "      <td>200</td>\n",
       "      <td>1513720881284</td>\n",
       "      <td>\"Mozilla/5.0 (Macintosh; Intel Mac OS X 10_9_4...</td>\n",
       "      <td>2219</td>\n",
       "      <td>3</td>\n",
       "    </tr>\n",
       "    <tr>\n",
       "      <th>3</th>\n",
       "      <td>Alex Smoke</td>\n",
       "      <td>Logged In</td>\n",
       "      <td>Sophee</td>\n",
       "      <td>F</td>\n",
       "      <td>8</td>\n",
       "      <td>Barker</td>\n",
       "      <td>405.99465</td>\n",
       "      <td>paid</td>\n",
       "      <td>San Luis Obispo-Paso Robles-Arroyo Grande, CA</td>\n",
       "      <td>PUT</td>\n",
       "      <td>NextSong</td>\n",
       "      <td>1513009647284</td>\n",
       "      <td>2372</td>\n",
       "      <td>Don't See The Point</td>\n",
       "      <td>200</td>\n",
       "      <td>1513720905284</td>\n",
       "      <td>\"Mozilla/5.0 (Windows NT 6.1; WOW64) AppleWebK...</td>\n",
       "      <td>2373</td>\n",
       "      <td>3</td>\n",
       "    </tr>\n",
       "    <tr>\n",
       "      <th>4</th>\n",
       "      <td>None</td>\n",
       "      <td>Logged In</td>\n",
       "      <td>Jordyn</td>\n",
       "      <td>F</td>\n",
       "      <td>0</td>\n",
       "      <td>Jones</td>\n",
       "      <td>NaN</td>\n",
       "      <td>free</td>\n",
       "      <td>Syracuse, NY</td>\n",
       "      <td>GET</td>\n",
       "      <td>Home</td>\n",
       "      <td>1513648531284</td>\n",
       "      <td>1746</td>\n",
       "      <td>None</td>\n",
       "      <td>200</td>\n",
       "      <td>1513720913284</td>\n",
       "      <td>\"Mozilla/5.0 (Macintosh; Intel Mac OS X 10_9_4...</td>\n",
       "      <td>1747</td>\n",
       "      <td>3</td>\n",
       "    </tr>\n",
       "  </tbody>\n",
       "</table>\n",
       "</div>"
      ],
      "text/plain": [
       "                                      artist       auth  firstName gender  \\\n",
       "0                              Showaddywaddy  Logged In    Kenneth      M   \n",
       "1                                 Lily Allen  Logged In  Elizabeth      F   \n",
       "2  Cobra Starship Featuring Leighton Meester  Logged In       Vera      F   \n",
       "3                                 Alex Smoke  Logged In     Sophee      F   \n",
       "4                                       None  Logged In     Jordyn      F   \n",
       "\n",
       "   itemInSession   lastName     length level  \\\n",
       "0            112   Matthews  232.93342  paid   \n",
       "1              7      Chase  195.23873  free   \n",
       "2              6  Blackwell  196.20526  paid   \n",
       "3              8     Barker  405.99465  paid   \n",
       "4              0      Jones        NaN  free   \n",
       "\n",
       "                                        location method      page  \\\n",
       "0              Charlotte-Concord-Gastonia, NC-SC    PUT  NextSong   \n",
       "1                    Shreveport-Bossier City, LA    PUT  NextSong   \n",
       "2                                     Racine, WI    PUT  NextSong   \n",
       "3  San Luis Obispo-Paso Robles-Arroyo Grande, CA    PUT  NextSong   \n",
       "4                                   Syracuse, NY    GET      Home   \n",
       "\n",
       "    registration  sessionId  \\\n",
       "0  1509380319284       5132   \n",
       "1  1512718541284       5027   \n",
       "2  1499855749284       5516   \n",
       "3  1513009647284       2372   \n",
       "4  1513648531284       1746   \n",
       "\n",
       "                                                song  status             ts  \\\n",
       "0                          Christmas Tears Will Fall     200  1513720872284   \n",
       "1                                      Cheryl Tweedy     200  1513720878284   \n",
       "2  Good Girls Go Bad (Feat.Leighton Meester) (Alb...     200  1513720881284   \n",
       "3                                Don't See The Point     200  1513720905284   \n",
       "4                                               None     200  1513720913284   \n",
       "\n",
       "                                           userAgent userId hour  \n",
       "0  \"Mozilla/5.0 (Windows NT 6.1) AppleWebKit/537....   1046    3  \n",
       "1  \"Mozilla/5.0 (Windows NT 6.1) AppleWebKit/537....   1000    3  \n",
       "2  \"Mozilla/5.0 (Macintosh; Intel Mac OS X 10_9_4...   2219    3  \n",
       "3  \"Mozilla/5.0 (Windows NT 6.1; WOW64) AppleWebK...   2373    3  \n",
       "4  \"Mozilla/5.0 (Macintosh; Intel Mac OS X 10_9_4...   1747    3  "
      ]
     },
     "execution_count": 33,
     "metadata": {},
     "output_type": "execute_result"
    }
   ],
   "source": [
    "pddf = user_log_valid.toPandas()\n",
    "pddf.head()"
   ]
  },
  {
   "cell_type": "markdown",
   "id": "f36f6001",
   "metadata": {},
   "source": [
    "**Checking if the invalid userIDs are successfully removed or not!**"
   ]
  },
  {
   "cell_type": "code",
   "execution_count": 34,
   "id": "891dda20",
   "metadata": {},
   "outputs": [
    {
     "name": "stdout",
     "output_type": "stream",
     "text": [
      "+------+\n",
      "|userId|\n",
      "+------+\n",
      "|    10|\n",
      "|   100|\n",
      "|  1000|\n",
      "|  1003|\n",
      "|  1005|\n",
      "|  1006|\n",
      "|  1017|\n",
      "|  1019|\n",
      "|  1020|\n",
      "|  1022|\n",
      "|  1025|\n",
      "|  1030|\n",
      "|  1035|\n",
      "|  1037|\n",
      "|   104|\n",
      "|  1040|\n",
      "|  1042|\n",
      "|  1043|\n",
      "|  1046|\n",
      "|  1048|\n",
      "+------+\n",
      "only showing top 20 rows\n",
      "\n"
     ]
    }
   ],
   "source": [
    "user_log_valid.select(\"userId\").dropDuplicates().sort(\"userId\").show()"
   ]
  },
  {
   "cell_type": "markdown",
   "id": "a119a47e",
   "metadata": {},
   "source": [
    "#### Lets check how many user have downgraded their account and moved to a free subscription."
   ]
  },
  {
   "cell_type": "code",
   "execution_count": 35,
   "id": "c7185a01",
   "metadata": {},
   "outputs": [
    {
     "name": "stdout",
     "output_type": "stream",
     "text": [
      "root\n",
      " |-- artist: string (nullable = true)\n",
      " |-- auth: string (nullable = true)\n",
      " |-- firstName: string (nullable = true)\n",
      " |-- gender: string (nullable = true)\n",
      " |-- itemInSession: long (nullable = true)\n",
      " |-- lastName: string (nullable = true)\n",
      " |-- length: double (nullable = true)\n",
      " |-- level: string (nullable = true)\n",
      " |-- location: string (nullable = true)\n",
      " |-- method: string (nullable = true)\n",
      " |-- page: string (nullable = true)\n",
      " |-- registration: long (nullable = true)\n",
      " |-- sessionId: long (nullable = true)\n",
      " |-- song: string (nullable = true)\n",
      " |-- status: long (nullable = true)\n",
      " |-- ts: long (nullable = true)\n",
      " |-- userAgent: string (nullable = true)\n",
      " |-- userId: string (nullable = true)\n",
      " |-- hour: string (nullable = true)\n",
      "\n"
     ]
    }
   ],
   "source": [
    "user_log_valid.printSchema()"
   ]
  },
  {
   "cell_type": "code",
   "execution_count": 36,
   "id": "a9bcca0f",
   "metadata": {},
   "outputs": [
    {
     "name": "stdout",
     "output_type": "stream",
     "text": [
      "+----------------+\n",
      "|            page|\n",
      "+----------------+\n",
      "|Submit Downgrade|\n",
      "|            Home|\n",
      "|       Downgrade|\n",
      "|          Logout|\n",
      "|   Save Settings|\n",
      "|           About|\n",
      "|        Settings|\n",
      "|        NextSong|\n",
      "|            Help|\n",
      "|         Upgrade|\n",
      "|           Error|\n",
      "|  Submit Upgrade|\n",
      "+----------------+\n",
      "\n"
     ]
    }
   ],
   "source": [
    "user_log_valid.select([\"page\"]).distinct().show()"
   ]
  },
  {
   "cell_type": "code",
   "execution_count": 37,
   "id": "5ad8d908",
   "metadata": {},
   "outputs": [
    {
     "name": "stdout",
     "output_type": "stream",
     "text": [
      "+------+---------+--------+----------------+-----+\n",
      "|userId|firstName|lastName|            page|level|\n",
      "+------+---------+--------+----------------+-----+\n",
      "|  1138|    Kelly|  Newton|Submit Downgrade| paid|\n",
      "+------+---------+--------+----------------+-----+\n",
      "\n"
     ]
    }
   ],
   "source": [
    "user_log_valid.select([\"userId\", \"firstName\", \"lastName\", \"page\", \"level\"])\\\n",
    "              .filter(user_log_valid[\"page\"] == \"Submit Downgrade\")\\\n",
    "              .show()"
   ]
  },
  {
   "cell_type": "code",
   "execution_count": 38,
   "id": "107bf9e0",
   "metadata": {},
   "outputs": [
    {
     "name": "stdout",
     "output_type": "stream",
     "text": [
      "68\n",
      "+------+---------+--------+----------------+-----+---------------------------------------+\n",
      "|userId|firstName|lastName|page            |level|song                                   |\n",
      "+------+---------+--------+----------------+-----+---------------------------------------+\n",
      "|1138  |Kelly    |Newton  |Home            |paid |null                                   |\n",
      "|1138  |Kelly    |Newton  |NextSong        |paid |Everybody Everybody                    |\n",
      "|1138  |Kelly    |Newton  |NextSong        |paid |Gears                                  |\n",
      "|1138  |Kelly    |Newton  |NextSong        |paid |Use Somebody                           |\n",
      "|1138  |Kelly    |Newton  |NextSong        |paid |Love Of My Life (1993 Digital Remaster)|\n",
      "|1138  |Kelly    |Newton  |NextSong        |paid |Down In The Valley Woe                 |\n",
      "|1138  |Kelly    |Newton  |NextSong        |paid |Treat Her Like A Lady                  |\n",
      "|1138  |Kelly    |Newton  |NextSong        |paid |Everybody Thinks You're An Angel       |\n",
      "|1138  |Kelly    |Newton  |NextSong        |paid |Fourteen Wives                         |\n",
      "|1138  |Kelly    |Newton  |NextSong        |paid |Love On The Rocks                      |\n",
      "|1138  |Kelly    |Newton  |NextSong        |paid |Breakeven                              |\n",
      "|1138  |Kelly    |Newton  |NextSong        |paid |Leaf House                             |\n",
      "|1138  |Kelly    |Newton  |NextSong        |paid |NAISEN KANSSA                          |\n",
      "|1138  |Kelly    |Newton  |NextSong        |paid |You're In My Heart                     |\n",
      "|1138  |Kelly    |Newton  |NextSong        |paid |Roll On Down The Highway               |\n",
      "|1138  |Kelly    |Newton  |NextSong        |paid |Plasticities (Remix)                   |\n",
      "|1138  |Kelly    |Newton  |NextSong        |paid |Secrets                                |\n",
      "|1138  |Kelly    |Newton  |NextSong        |paid |Hello                                  |\n",
      "|1138  |Kelly    |Newton  |NextSong        |paid |I Never Told You                       |\n",
      "|1138  |Kelly    |Newton  |NextSong        |paid |Love Break Me                          |\n",
      "|1138  |Kelly    |Newton  |NextSong        |paid |One Touch One Bounce                   |\n",
      "|1138  |Kelly    |Newton  |NextSong        |paid |Undo                                   |\n",
      "|1138  |Kelly    |Newton  |NextSong        |paid |Overdue (Blackbeard Remix)             |\n",
      "|1138  |Kelly    |Newton  |NextSong        |paid |Slave To Love (1999 Digital Remaster)  |\n",
      "|1138  |Kelly    |Newton  |NextSong        |paid |Stronger                               |\n",
      "|1138  |Kelly    |Newton  |NextSong        |paid |All Of Us (Album Version)              |\n",
      "|1138  |Kelly    |Newton  |NextSong        |paid |Sehr kosmisch                          |\n",
      "|1138  |Kelly    |Newton  |NextSong        |paid |March Of The Celts                     |\n",
      "|1138  |Kelly    |Newton  |NextSong        |paid |Electricity                            |\n",
      "|1138  |Kelly    |Newton  |NextSong        |paid |Aces High                              |\n",
      "|1138  |Kelly    |Newton  |NextSong        |paid |Bananeira                              |\n",
      "|1138  |Kelly    |Newton  |NextSong        |paid |The General                            |\n",
      "|1138  |Kelly    |Newton  |NextSong        |paid |HÃÂ©roe De Leyenda (VersiÃÂ³n Maxi)  |\n",
      "|1138  |Kelly    |Newton  |NextSong        |paid |Don't Stop The Music                   |\n",
      "|1138  |Kelly    |Newton  |NextSong        |paid |You're The One                         |\n",
      "|1138  |Kelly    |Newton  |NextSong        |paid |Entering White Cecilia                 |\n",
      "|1138  |Kelly    |Newton  |NextSong        |paid |Piccolo Cesare                         |\n",
      "|1138  |Kelly    |Newton  |Help            |paid |null                                   |\n",
      "|1138  |Kelly    |Newton  |NextSong        |paid |Last Christmas (Album Version)         |\n",
      "|1138  |Kelly    |Newton  |NextSong        |paid |You Shook Me                           |\n",
      "|1138  |Kelly    |Newton  |NextSong        |paid |Going Steady                           |\n",
      "|1138  |Kelly    |Newton  |NextSong        |paid |My Name Is                             |\n",
      "|1138  |Kelly    |Newton  |NextSong        |paid |Undo                                   |\n",
      "|1138  |Kelly    |Newton  |NextSong        |paid |Secrets                                |\n",
      "|1138  |Kelly    |Newton  |NextSong        |paid |Good Times Gone (Album Version)        |\n",
      "|1138  |Kelly    |Newton  |NextSong        |paid |Angelito                               |\n",
      "|1138  |Kelly    |Newton  |NextSong        |paid |Batdance ( LP Version )                |\n",
      "|1138  |Kelly    |Newton  |Home            |paid |null                                   |\n",
      "|1138  |Kelly    |Newton  |NextSong        |paid |DiÃÂ¡kdal                             |\n",
      "|1138  |Kelly    |Newton  |NextSong        |paid |Whirring                               |\n",
      "|1138  |Kelly    |Newton  |NextSong        |paid |Potholderz (feat. Count Bass D)        |\n",
      "|1138  |Kelly    |Newton  |NextSong        |paid |Seaside                                |\n",
      "|1138  |Kelly    |Newton  |NextSong        |paid |Louder Than A Bomb                     |\n",
      "|1138  |Kelly    |Newton  |NextSong        |paid |Just Like You                          |\n",
      "|1138  |Kelly    |Newton  |NextSong        |paid |You're The One                         |\n",
      "|1138  |Kelly    |Newton  |NextSong        |paid |Turn It Again (Album Version)          |\n",
      "|1138  |Kelly    |Newton  |NextSong        |paid |Everywhere I Go                        |\n",
      "|1138  |Kelly    |Newton  |NextSong        |paid |Easy Skankin'                          |\n",
      "|1138  |Kelly    |Newton  |NextSong        |paid |Roses                                  |\n",
      "|1138  |Kelly    |Newton  |NextSong        |paid |Killing Me Softly With His Song        |\n",
      "|1138  |Kelly    |Newton  |NextSong        |paid |The Razor (Album Version)              |\n",
      "|1138  |Kelly    |Newton  |NextSong        |paid |Idols and Anchors                      |\n",
      "|1138  |Kelly    |Newton  |Downgrade       |paid |null                                   |\n",
      "|1138  |Kelly    |Newton  |Submit Downgrade|paid |null                                   |\n",
      "|1138  |Kelly    |Newton  |Home            |free |null                                   |\n",
      "|1138  |Kelly    |Newton  |NextSong        |free |Bones                                  |\n",
      "|1138  |Kelly    |Newton  |Home            |free |null                                   |\n",
      "|1138  |Kelly    |Newton  |NextSong        |free |Grenouilles Mantidactylus (Small Frogs)|\n",
      "+------+---------+--------+----------------+-----+---------------------------------------+\n",
      "\n"
     ]
    }
   ],
   "source": [
    "total_1138_records = user_log_valid.select([\"userId\", \"firstName\", \"lastName\", \"page\", \"level\", \"song\"])\\\n",
    "              .filter(\"\"\"userId = 1138\"\"\").count()\n",
    "\n",
    "print(total_1138_records)\n",
    "\n",
    "user_log_valid.select([\"userId\", \"firstName\", \"lastName\", \"page\", \"level\", \"song\"])\\\n",
    "              .filter(\"\"\"userId = 1138\"\"\").show(n = total_1138_records,truncate = False)"
   ]
  },
  {
   "cell_type": "code",
   "execution_count": 39,
   "id": "e8e876bf",
   "metadata": {},
   "outputs": [],
   "source": [
    "from pyspark.sql.functions import udf\n",
    "from pyspark.sql.types import IntegerType\n",
    "\n",
    "flag_downgrade_event = udf(lambda target_page : 1 if target_page == \"Submit Downgrade\" else 0, IntegerType())"
   ]
  },
  {
   "cell_type": "code",
   "execution_count": 40,
   "id": "bce6837d",
   "metadata": {},
   "outputs": [],
   "source": [
    "user_log_valid = user_log_valid.withColumn(\"downgraded\", flag_downgrade_event(\"page\"))"
   ]
  },
  {
   "cell_type": "code",
   "execution_count": 41,
   "id": "50e476e8",
   "metadata": {},
   "outputs": [
    {
     "name": "stdout",
     "output_type": "stream",
     "text": [
      "+------+---------+--------+----------------+-----+----------+\n",
      "|userId|firstName|lastName|            page|level|downgraded|\n",
      "+------+---------+--------+----------------+-----+----------+\n",
      "|  1138|    Kelly|  Newton|Submit Downgrade| paid|         1|\n",
      "+------+---------+--------+----------------+-----+----------+\n",
      "\n"
     ]
    }
   ],
   "source": [
    "user_log_valid.select([\"userId\", \"firstName\", \"lastName\", \"page\", \"level\", \"downgraded\"])\\\n",
    "              .filter(user_log_valid[\"page\"] == \"Submit Downgrade\")\\\n",
    "              .show()"
   ]
  },
  {
   "cell_type": "code",
   "execution_count": 42,
   "id": "85ad75e2",
   "metadata": {},
   "outputs": [
    {
     "name": "stdout",
     "output_type": "stream",
     "text": [
      "+------+---------+---------+--------+-----+----------+\n",
      "|userId|firstName| lastName|    page|level|downgraded|\n",
      "+------+---------+---------+--------+-----+----------+\n",
      "|  1046|  Kenneth| Matthews|NextSong| paid|         0|\n",
      "|  1000|Elizabeth|    Chase|NextSong| free|         0|\n",
      "|  2219|     Vera|Blackwell|NextSong| paid|         0|\n",
      "|  2373|   Sophee|   Barker|NextSong| paid|         0|\n",
      "|  1747|   Jordyn|    Jones|    Home| free|         0|\n",
      "+------+---------+---------+--------+-----+----------+\n",
      "only showing top 5 rows\n",
      "\n"
     ]
    }
   ],
   "source": [
    "user_log_valid.select([\"userId\", \"firstName\", \"lastName\", \"page\", \"level\", \"downgraded\"]).show(5)"
   ]
  },
  {
   "cell_type": "code",
   "execution_count": 43,
   "id": "c4820c6d",
   "metadata": {},
   "outputs": [
    {
     "name": "stdout",
     "output_type": "stream",
     "text": [
      "+------+---------+--------+--------+-----+----------+\n",
      "|userId|firstName|lastName|    page|level|downgraded|\n",
      "+------+---------+--------+--------+-----+----------+\n",
      "|  1138|    Kelly|  Newton|    Home| paid|         0|\n",
      "|  1138|    Kelly|  Newton|NextSong| paid|         0|\n",
      "|  1138|    Kelly|  Newton|NextSong| paid|         0|\n",
      "|  1138|    Kelly|  Newton|NextSong| paid|         0|\n",
      "|  1138|    Kelly|  Newton|NextSong| paid|         0|\n",
      "|  1138|    Kelly|  Newton|NextSong| paid|         0|\n",
      "|  1138|    Kelly|  Newton|NextSong| paid|         0|\n",
      "|  1138|    Kelly|  Newton|NextSong| paid|         0|\n",
      "|  1138|    Kelly|  Newton|NextSong| paid|         0|\n",
      "|  1138|    Kelly|  Newton|NextSong| paid|         0|\n",
      "|  1138|    Kelly|  Newton|NextSong| paid|         0|\n",
      "|  1138|    Kelly|  Newton|NextSong| paid|         0|\n",
      "|  1138|    Kelly|  Newton|NextSong| paid|         0|\n",
      "|  1138|    Kelly|  Newton|NextSong| paid|         0|\n",
      "|  1138|    Kelly|  Newton|NextSong| paid|         0|\n",
      "|  1138|    Kelly|  Newton|NextSong| paid|         0|\n",
      "|  1138|    Kelly|  Newton|NextSong| paid|         0|\n",
      "|  1138|    Kelly|  Newton|NextSong| paid|         0|\n",
      "|  1138|    Kelly|  Newton|NextSong| paid|         0|\n",
      "|  1138|    Kelly|  Newton|NextSong| paid|         0|\n",
      "+------+---------+--------+--------+-----+----------+\n",
      "only showing top 20 rows\n",
      "\n"
     ]
    }
   ],
   "source": [
    "user_log_valid.select([\"userId\", \"firstName\", \"lastName\", \"page\", \"level\", \"downgraded\"])\\\n",
    "              .filter(user_log_valid[\"userID\"] == \"1138\")\\\n",
    "              .show()"
   ]
  },
  {
   "cell_type": "code",
   "execution_count": 44,
   "id": "36b85ca7",
   "metadata": {},
   "outputs": [],
   "source": [
    "from pyspark.sql import Window"
   ]
  },
  {
   "cell_type": "code",
   "execution_count": 45,
   "id": "8cdb7ae2",
   "metadata": {},
   "outputs": [],
   "source": [
    "windowval = Window.partitionBy(\"userId\").orderBy(desc(\"ts\")).rangeBetween(Window.unboundedPreceding, 0)"
   ]
  },
  {
   "cell_type": "code",
   "execution_count": 46,
   "id": "94f75fe4",
   "metadata": {},
   "outputs": [
    {
     "data": {
      "text/plain": [
       "[Row(userId='1138', firstname='Kelly', ts=1513729066284, page='Home', level='paid', phase=1),\n",
       " Row(userId='1138', firstname='Kelly', ts=1513729066284, page='NextSong', level='paid', phase=1),\n",
       " Row(userId='1138', firstname='Kelly', ts=1513729313284, page='NextSong', level='paid', phase=1),\n",
       " Row(userId='1138', firstname='Kelly', ts=1513729552284, page='NextSong', level='paid', phase=1),\n",
       " Row(userId='1138', firstname='Kelly', ts=1513729783284, page='NextSong', level='paid', phase=1),\n",
       " Row(userId='1138', firstname='Kelly', ts=1513730001284, page='NextSong', level='paid', phase=1),\n",
       " Row(userId='1138', firstname='Kelly', ts=1513730263284, page='NextSong', level='paid', phase=1),\n",
       " Row(userId='1138', firstname='Kelly', ts=1513730518284, page='NextSong', level='paid', phase=1),\n",
       " Row(userId='1138', firstname='Kelly', ts=1513730768284, page='NextSong', level='paid', phase=1),\n",
       " Row(userId='1138', firstname='Kelly', ts=1513731182284, page='NextSong', level='paid', phase=1),\n",
       " Row(userId='1138', firstname='Kelly', ts=1513731435284, page='NextSong', level='paid', phase=1),\n",
       " Row(userId='1138', firstname='Kelly', ts=1513731695284, page='NextSong', level='paid', phase=1),\n",
       " Row(userId='1138', firstname='Kelly', ts=1513731857284, page='NextSong', level='paid', phase=1),\n",
       " Row(userId='1138', firstname='Kelly', ts=1513732160284, page='NextSong', level='paid', phase=1),\n",
       " Row(userId='1138', firstname='Kelly', ts=1513732302284, page='NextSong', level='paid', phase=1),\n",
       " Row(userId='1138', firstname='Kelly', ts=1513732540284, page='NextSong', level='paid', phase=1),\n",
       " Row(userId='1138', firstname='Kelly', ts=1513732770284, page='NextSong', level='paid', phase=1),\n",
       " Row(userId='1138', firstname='Kelly', ts=1513732994284, page='NextSong', level='paid', phase=1),\n",
       " Row(userId='1138', firstname='Kelly', ts=1513733223284, page='NextSong', level='paid', phase=1),\n",
       " Row(userId='1138', firstname='Kelly', ts=1513733456284, page='NextSong', level='paid', phase=1),\n",
       " Row(userId='1138', firstname='Kelly', ts=1513733738284, page='NextSong', level='paid', phase=1),\n",
       " Row(userId='1138', firstname='Kelly', ts=1513733941284, page='NextSong', level='paid', phase=1),\n",
       " Row(userId='1138', firstname='Kelly', ts=1513734289284, page='NextSong', level='paid', phase=1),\n",
       " Row(userId='1138', firstname='Kelly', ts=1513734598284, page='NextSong', level='paid', phase=1),\n",
       " Row(userId='1138', firstname='Kelly', ts=1513734863284, page='NextSong', level='paid', phase=1),\n",
       " Row(userId='1138', firstname='Kelly', ts=1513735174284, page='NextSong', level='paid', phase=1),\n",
       " Row(userId='1138', firstname='Kelly', ts=1513735385284, page='NextSong', level='paid', phase=1),\n",
       " Row(userId='1138', firstname='Kelly', ts=1513736040284, page='NextSong', level='paid', phase=1),\n",
       " Row(userId='1138', firstname='Kelly', ts=1513736237284, page='NextSong', level='paid', phase=1),\n",
       " Row(userId='1138', firstname='Kelly', ts=1513736446284, page='NextSong', level='paid', phase=1),\n",
       " Row(userId='1138', firstname='Kelly', ts=1513736709284, page='NextSong', level='paid', phase=1),\n",
       " Row(userId='1138', firstname='Kelly', ts=1513736915284, page='NextSong', level='paid', phase=1),\n",
       " Row(userId='1138', firstname='Kelly', ts=1513737160284, page='NextSong', level='paid', phase=1),\n",
       " Row(userId='1138', firstname='Kelly', ts=1513737460284, page='NextSong', level='paid', phase=1),\n",
       " Row(userId='1138', firstname='Kelly', ts=1513737728284, page='NextSong', level='paid', phase=1),\n",
       " Row(userId='1138', firstname='Kelly', ts=1513737936284, page='NextSong', level='paid', phase=1),\n",
       " Row(userId='1138', firstname='Kelly', ts=1513738144284, page='NextSong', level='paid', phase=1),\n",
       " Row(userId='1138', firstname='Kelly', ts=1513738197284, page='Help', level='paid', phase=1),\n",
       " Row(userId='1138', firstname='Kelly', ts=1513738432284, page='NextSong', level='paid', phase=1),\n",
       " Row(userId='1138', firstname='Kelly', ts=1513763195284, page='NextSong', level='paid', phase=1),\n",
       " Row(userId='1138', firstname='Kelly', ts=1513763453284, page='NextSong', level='paid', phase=1),\n",
       " Row(userId='1138', firstname='Kelly', ts=1513763622284, page='NextSong', level='paid', phase=1),\n",
       " Row(userId='1138', firstname='Kelly', ts=1513763890284, page='NextSong', level='paid', phase=1),\n",
       " Row(userId='1138', firstname='Kelly', ts=1513764238284, page='NextSong', level='paid', phase=1),\n",
       " Row(userId='1138', firstname='Kelly', ts=1513764462284, page='NextSong', level='paid', phase=1),\n",
       " Row(userId='1138', firstname='Kelly', ts=1513764782284, page='NextSong', level='paid', phase=1),\n",
       " Row(userId='1138', firstname='Kelly', ts=1513765075284, page='NextSong', level='paid', phase=1),\n",
       " Row(userId='1138', firstname='Kelly', ts=1513765075284, page='Home', level='paid', phase=1),\n",
       " Row(userId='1138', firstname='Kelly', ts=1513765448284, page='NextSong', level='paid', phase=1),\n",
       " Row(userId='1138', firstname='Kelly', ts=1513765655284, page='NextSong', level='paid', phase=1),\n",
       " Row(userId='1138', firstname='Kelly', ts=1513765818284, page='NextSong', level='paid', phase=1),\n",
       " Row(userId='1138', firstname='Kelly', ts=1513766091284, page='NextSong', level='paid', phase=1),\n",
       " Row(userId='1138', firstname='Kelly', ts=1513766189284, page='NextSong', level='paid', phase=1),\n",
       " Row(userId='1138', firstname='Kelly', ts=1513766385284, page='NextSong', level='paid', phase=1),\n",
       " Row(userId='1138', firstname='Kelly', ts=1513766599284, page='NextSong', level='paid', phase=1),\n",
       " Row(userId='1138', firstname='Kelly', ts=1513766838284, page='NextSong', level='paid', phase=1),\n",
       " Row(userId='1138', firstname='Kelly', ts=1513767203284, page='NextSong', level='paid', phase=1),\n",
       " Row(userId='1138', firstname='Kelly', ts=1513767413284, page='NextSong', level='paid', phase=1),\n",
       " Row(userId='1138', firstname='Kelly', ts=1513767643284, page='NextSong', level='paid', phase=1),\n",
       " Row(userId='1138', firstname='Kelly', ts=1513768012284, page='NextSong', level='paid', phase=1),\n",
       " Row(userId='1138', firstname='Kelly', ts=1513768242284, page='NextSong', level='paid', phase=1),\n",
       " Row(userId='1138', firstname='Kelly', ts=1513768452284, page='NextSong', level='paid', phase=1),\n",
       " Row(userId='1138', firstname='Kelly', ts=1513768453284, page='Downgrade', level='paid', phase=1),\n",
       " Row(userId='1138', firstname='Kelly', ts=1513768454284, page='Submit Downgrade', level='paid', phase=1),\n",
       " Row(userId='1138', firstname='Kelly', ts=1513768456284, page='Home', level='free', phase=0),\n",
       " Row(userId='1138', firstname='Kelly', ts=1513814880284, page='NextSong', level='free', phase=0),\n",
       " Row(userId='1138', firstname='Kelly', ts=1513821430284, page='Home', level='free', phase=0),\n",
       " Row(userId='1138', firstname='Kelly', ts=1513833144284, page='NextSong', level='free', phase=0)]"
      ]
     },
     "execution_count": 46,
     "metadata": {},
     "output_type": "execute_result"
    }
   ],
   "source": [
    "from pyspark.sql.functions import sum as Fsum\n",
    "\n",
    "user_log_valid = user_log_valid.withColumn(\"phase\", Fsum(\"downgraded\").over(windowval))\n",
    "\n",
    "user_log_valid.select([\"userId\", \"firstname\", \"ts\", \"page\", \"level\", \"phase\"])\\\n",
    "              .where(user_log_valid.userId == \"1138\").sort(\"ts\").collect()"
   ]
  },
  {
   "cell_type": "markdown",
   "id": "9b1255bd",
   "metadata": {},
   "source": [
    "### Assignment #1:\n",
    "\n",
    "Which page did user id \"\" (empty string) NOT visit? <br>\n",
    "a.) About<br>\n",
    "b.) Home<br>\n",
    "c.) Login<br>\n",
    "d.) NextSong"
   ]
  },
  {
   "cell_type": "code",
   "execution_count": 95,
   "id": "633df046",
   "metadata": {},
   "outputs": [
    {
     "name": "stdout",
     "output_type": "stream",
     "text": [
      "user with userID \"\" did not visit these below pages...\n",
      "\n",
      "Downgrade\n",
      "Save Settings\n",
      "NextSong\n",
      "Logout\n",
      "Submit Downgrade\n",
      "Error\n",
      "Upgrade\n",
      "Settings\n",
      "Submit Upgrade\n"
     ]
    }
   ],
   "source": [
    "all_pages = set(user_log.select(\"page\").distinct().collect())\n",
    "user_visited = set(user_log.select(\"page\").filter(user_log.userId == \"\").distinct().collect())\n",
    "\n",
    "page_not_visited = all_pages.difference(user_visited)\n",
    "print(\"\"\"user with userID \"\" did not visit these below pages...\\n\"\"\")\n",
    "for webpage in page_not_visited:\n",
    "    print(webpage.page)"
   ]
  },
  {
   "cell_type": "code",
   "execution_count": 87,
   "id": "0c3828aa",
   "metadata": {},
   "outputs": [
    {
     "data": {
      "text/plain": [
       "[Row(page='About'),\n",
       " Row(page='Downgrade'),\n",
       " Row(page='Error'),\n",
       " Row(page='Help'),\n",
       " Row(page='Home'),\n",
       " Row(page='Login'),\n",
       " Row(page='Logout'),\n",
       " Row(page='NextSong'),\n",
       " Row(page='Save Settings'),\n",
       " Row(page='Settings'),\n",
       " Row(page='Submit Downgrade'),\n",
       " Row(page='Submit Upgrade'),\n",
       " Row(page='Upgrade')]"
      ]
     },
     "execution_count": 87,
     "metadata": {},
     "output_type": "execute_result"
    }
   ],
   "source": [
    "sorted(all_pages)"
   ]
  },
  {
   "cell_type": "code",
   "execution_count": 88,
   "id": "44947d49",
   "metadata": {},
   "outputs": [
    {
     "data": {
      "text/plain": [
       "{Row(page='Downgrade'),\n",
       " Row(page='Error'),\n",
       " Row(page='Logout'),\n",
       " Row(page='NextSong'),\n",
       " Row(page='Save Settings'),\n",
       " Row(page='Settings'),\n",
       " Row(page='Submit Downgrade'),\n",
       " Row(page='Submit Upgrade'),\n",
       " Row(page='Upgrade')}"
      ]
     },
     "execution_count": 88,
     "metadata": {},
     "output_type": "execute_result"
    }
   ],
   "source": [
    "all_pages.difference(user_visited)"
   ]
  },
  {
   "cell_type": "code",
   "execution_count": 49,
   "id": "ddb35b85",
   "metadata": {},
   "outputs": [
    {
     "name": "stdout",
     "output_type": "stream",
     "text": [
      "user with the ID '' did not visited page - 'NextSong'\n"
     ]
    }
   ],
   "source": [
    "\n",
    "print(\"\"\"user with the ID '' did not visited page - 'NextSong'\"\"\")"
   ]
  },
  {
   "cell_type": "markdown",
   "id": "49e7a8d2",
   "metadata": {},
   "source": [
    "### Assignment #2:\n",
    "How many female users do we have in the data set?<br>\n",
    "a.) 462<br>\n",
    "b.) 501<br>\n",
    "c.) 3820<br>\n",
    "d.) 5844<br>"
   ]
  },
  {
   "cell_type": "code",
   "execution_count": 50,
   "id": "c62e962e",
   "metadata": {},
   "outputs": [
    {
     "name": "stdout",
     "output_type": "stream",
     "text": [
      "['artist', 'auth', 'firstName', 'gender', 'itemInSession', 'lastName', 'length', 'level', 'location', 'method', 'page', 'registration', 'sessionId', 'song', 'status', 'ts', 'userAgent', 'userId', 'hour', 'downgraded', 'phase']\n"
     ]
    }
   ],
   "source": [
    "print(user_log_valid.columns)"
   ]
  },
  {
   "cell_type": "code",
   "execution_count": 96,
   "id": "483fcc50",
   "metadata": {},
   "outputs": [
    {
     "name": "stdout",
     "output_type": "stream",
     "text": [
      "Number of female users:  462\n"
     ]
    }
   ],
   "source": [
    "total_females = user_log_valid.select([\"userId\", \"gender\"]).distinct().filter(user_log_valid.gender == \"F\").count()\n",
    "print(\"Number of female users: \", total_females)"
   ]
  },
  {
   "cell_type": "markdown",
   "id": "12a55347",
   "metadata": {},
   "source": [
    "### Assignment #3:\n",
    "How many songs were played from the most played artist?<br>\n",
    "a.) 3<br>\n",
    "b.) 53<br>\n",
    "c.) 83<br>\n",
    "d.) 113"
   ]
  },
  {
   "cell_type": "code",
   "execution_count": 52,
   "id": "59c1f019",
   "metadata": {},
   "outputs": [
    {
     "data": {
      "text/plain": [
       "83"
      ]
     },
     "execution_count": 52,
     "metadata": {},
     "output_type": "execute_result"
    }
   ],
   "source": [
    "most_played_artist = user_log_valid.dropna(how = \"any\")\\\n",
    "                     .groupBy(\"artist\")\\\n",
    "                     .count().select([\"artist\", \"count\"]).orderBy(desc(\"count\")).collect()[0][1]\n",
    "\n",
    "most_played_artist"
   ]
  },
  {
   "cell_type": "markdown",
   "id": "b174abbb",
   "metadata": {},
   "source": [
    "### Assignment #4:\n",
    "How many songs do users listen to on average between visiting our home page? Please round your answer to the closest integer.<br>\n",
    "a.) 5<br>\n",
    "b.) 7<br>\n",
    "c.) 9<br>\n",
    "d.) 11"
   ]
  },
  {
   "cell_type": "code",
   "execution_count": 53,
   "id": "d86811db",
   "metadata": {},
   "outputs": [
    {
     "name": "stdout",
     "output_type": "stream",
     "text": [
      "+------+--------+\n",
      "|userId|    page|\n",
      "+------+--------+\n",
      "|  1046|NextSong|\n",
      "|  1046|NextSong|\n",
      "|  1046|NextSong|\n",
      "|  1046|NextSong|\n",
      "|  1046|NextSong|\n",
      "|  1046|NextSong|\n",
      "|  1046|NextSong|\n",
      "|  1046|    Home|\n",
      "|  1046|NextSong|\n",
      "|  1046|NextSong|\n",
      "|  1046|NextSong|\n",
      "|  1046|  Logout|\n",
      "|  1046|    Home|\n",
      "|  1046|NextSong|\n",
      "|  1046|NextSong|\n",
      "|  1046|NextSong|\n",
      "|  1046|NextSong|\n",
      "|  1046|NextSong|\n",
      "|  1046|NextSong|\n",
      "|  1046|NextSong|\n",
      "+------+--------+\n",
      "only showing top 20 rows\n",
      "\n"
     ]
    }
   ],
   "source": [
    "user_log_valid.select([\"userId\", \"page\"]).filter(user_log_valid.userId == \"1046\").show()"
   ]
  },
  {
   "cell_type": "code",
   "execution_count": 54,
   "id": "7813daf8",
   "metadata": {},
   "outputs": [
    {
     "data": {
      "text/plain": [
       "<pyspark.sql.group.GroupedData at 0x16ce7d98220>"
      ]
     },
     "execution_count": 54,
     "metadata": {},
     "output_type": "execute_result"
    }
   ],
   "source": [
    "user_log_valid.select(\"page\").groupBy(\"userId\")"
   ]
  },
  {
   "cell_type": "code",
   "execution_count": null,
   "id": "c36ab3f2",
   "metadata": {},
   "outputs": [],
   "source": []
  }
 ],
 "metadata": {
  "kernelspec": {
   "display_name": "Python 3",
   "language": "python",
   "name": "python3"
  },
  "language_info": {
   "codemirror_mode": {
    "name": "ipython",
    "version": 3
   },
   "file_extension": ".py",
   "mimetype": "text/x-python",
   "name": "python",
   "nbconvert_exporter": "python",
   "pygments_lexer": "ipython3",
   "version": "3.8.8"
  }
 },
 "nbformat": 4,
 "nbformat_minor": 5
}
