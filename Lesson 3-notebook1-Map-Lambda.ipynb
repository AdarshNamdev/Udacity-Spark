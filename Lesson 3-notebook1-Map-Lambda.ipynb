{
 "cells": [
  {
   "cell_type": "markdown",
   "id": "8525d0f4-f290-4dfe-921c-3b2b25035757",
   "metadata": {},
   "source": [
    "## Using lambda function inside Map"
   ]
  },
  {
   "cell_type": "code",
   "execution_count": 1,
   "id": "0ec693d3-a6cb-48a4-ba0c-79a9ac1c5f13",
   "metadata": {},
   "outputs": [],
   "source": [
    "from pyspark import SparkContext\n",
    "\n",
    "sc = SparkContext(appName = \"UsingLambdaInsideMap\")"
   ]
  },
  {
   "cell_type": "code",
   "execution_count": 3,
   "id": "7f9f4495-35d4-47c8-867c-df02ebe3a6d1",
   "metadata": {},
   "outputs": [],
   "source": [
    "log_of_songs = [\n",
    "                 \"Despacito\", \"All the stars\", \n",
    "                 \"Nice for What\",\"Havana\", \n",
    "                 \"Radioactive\", \n",
    "                 \"Counting Stars\", \n",
    "                 \"Havana\", \n",
    "                 \"Despacito\", \n",
    "                 \"Nice for what\"\n",
    "                ]"
   ]
  },
  {
   "cell_type": "code",
   "execution_count": 6,
   "id": "dee51915-9027-4532-b83d-f14b82ad4518",
   "metadata": {},
   "outputs": [],
   "source": [
    "distributed_songs_log = sc.parallelize(log_of_songs)                # sc.parallelize() makes an RDD from the dataset provided!"
   ]
  },
  {
   "cell_type": "markdown",
   "id": "7a18d0b3-2620-40ab-a9f5-ab25d9d44be6",
   "metadata": {},
   "source": [
    "#### Creating a UDF that can be used inside the **map** function"
   ]
  },
  {
   "cell_type": "code",
   "execution_count": 7,
   "id": "e7b9ddf6-b071-43f8-8d10-dd45066a0045",
   "metadata": {},
   "outputs": [],
   "source": [
    "def convert_song_to_lowercase(song):\n",
    "    return song.lower()\n"
   ]
  },
  {
   "cell_type": "markdown",
   "id": "faae384c-12cd-4c90-bbbb-0f8d67895040",
   "metadata": {},
   "source": [
    "#### Now lets pass this function inside the our **map** function...."
   ]
  },
  {
   "cell_type": "code",
   "execution_count": 14,
   "id": "b09fcdc0-f635-4982-baed-fa553b3fef66",
   "metadata": {},
   "outputs": [],
   "source": [
    "dist_songs_log_revised = distributed_songs_log.map(convert_song_to_lowercase).collect()"
   ]
  },
  {
   "cell_type": "code",
   "execution_count": 12,
   "id": "67e5cb37-5dca-4913-bffb-179b35dd42f9",
   "metadata": {},
   "outputs": [
    {
     "data": {
      "text/plain": [
       "['Despacito',\n",
       " 'All the stars',\n",
       " 'Nice for What',\n",
       " 'Havana',\n",
       " 'Radioactive',\n",
       " 'Counting Stars',\n",
       " 'Havana',\n",
       " 'Despacito',\n",
       " 'Nice for what']"
      ]
     },
     "execution_count": 12,
     "metadata": {},
     "output_type": "execute_result"
    }
   ],
   "source": [
    "distributed_songs_log.collect()                     # original dataset remain intact!"
   ]
  },
  {
   "cell_type": "code",
   "execution_count": 15,
   "id": "592b87d6-1a66-42a8-8118-550f95d26d70",
   "metadata": {},
   "outputs": [
    {
     "data": {
      "text/plain": [
       "['despacito',\n",
       " 'all the stars',\n",
       " 'nice for what',\n",
       " 'havana',\n",
       " 'radioactive',\n",
       " 'counting stars',\n",
       " 'havana',\n",
       " 'despacito',\n",
       " 'nice for what']"
      ]
     },
     "execution_count": 15,
     "metadata": {},
     "output_type": "execute_result"
    }
   ],
   "source": [
    "dist_songs_log_revised"
   ]
  },
  {
   "cell_type": "markdown",
   "id": "01e8d64f-ed46-4181-8569-09366d3c208a",
   "metadata": {},
   "source": [
    "#### Another way of doing the above manipulation can be done by wrapping the str.lower() function with lambda function inside map, rather creating a UDF"
   ]
  },
  {
   "cell_type": "code",
   "execution_count": 19,
   "id": "51a23d5b-02f2-40c9-b83b-f215bbec3ea6",
   "metadata": {},
   "outputs": [],
   "source": [
    "revising_song_log_with_lambda = distributed_songs_log.map(lambda song: song.lower()).collect()"
   ]
  },
  {
   "cell_type": "code",
   "execution_count": 21,
   "id": "7828f5e3-55c7-450f-8069-1e0f0ed76f92",
   "metadata": {},
   "outputs": [
    {
     "data": {
      "text/plain": [
       "['Despacito',\n",
       " 'All the stars',\n",
       " 'Nice for What',\n",
       " 'Havana',\n",
       " 'Radioactive',\n",
       " 'Counting Stars',\n",
       " 'Havana',\n",
       " 'Despacito',\n",
       " 'Nice for what']"
      ]
     },
     "execution_count": 21,
     "metadata": {},
     "output_type": "execute_result"
    }
   ],
   "source": [
    "distributed_songs_log.collect()"
   ]
  },
  {
   "cell_type": "code",
   "execution_count": 20,
   "id": "0c8b1ddd-1f68-4ca8-9a68-c2a8d0a3fecc",
   "metadata": {},
   "outputs": [
    {
     "data": {
      "text/plain": [
       "['despacito',\n",
       " 'all the stars',\n",
       " 'nice for what',\n",
       " 'havana',\n",
       " 'radioactive',\n",
       " 'counting stars',\n",
       " 'havana',\n",
       " 'despacito',\n",
       " 'nice for what']"
      ]
     },
     "execution_count": 20,
     "metadata": {},
     "output_type": "execute_result"
    }
   ],
   "source": [
    "revising_song_log_with_lambda"
   ]
  },
  {
   "cell_type": "code",
   "execution_count": null,
   "id": "16c0552e-cb26-4eb0-9215-89a7bea289db",
   "metadata": {},
   "outputs": [],
   "source": []
  },
  {
   "cell_type": "code",
   "execution_count": null,
   "id": "4ea41fe6-9336-43c7-a892-496ac27a2cbc",
   "metadata": {},
   "outputs": [],
   "source": []
  },
  {
   "cell_type": "code",
   "execution_count": null,
   "id": "db136960-689e-4fff-aa06-1b3ac131319d",
   "metadata": {},
   "outputs": [],
   "source": []
  },
  {
   "cell_type": "code",
   "execution_count": null,
   "id": "0f3b6bfd-4ab7-4f3f-a211-2c0a1826e37b",
   "metadata": {},
   "outputs": [],
   "source": []
  }
 ],
 "metadata": {
  "kernelspec": {
   "display_name": "Python 3",
   "language": "python",
   "name": "python3"
  },
  "language_info": {
   "codemirror_mode": {
    "name": "ipython",
    "version": 3
   },
   "file_extension": ".py",
   "mimetype": "text/x-python",
   "name": "python",
   "nbconvert_exporter": "python",
   "pygments_lexer": "ipython3",
   "version": "3.8.8"
  }
 },
 "nbformat": 4,
 "nbformat_minor": 5
}
