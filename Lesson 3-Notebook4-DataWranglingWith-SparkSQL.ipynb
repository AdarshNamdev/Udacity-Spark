{
 "cells": [
  {
   "cell_type": "markdown",
   "id": "69d9679a",
   "metadata": {},
   "source": [
    "# Data Wrangling with Spark SQL Quiz\n",
    "\n",
    "This quiz uses the same dataset and most of the same questions from the earlier \"Quiz - Data Wrangling with Data Frames Jupyter Notebook.\" For this quiz, however, use Spark SQL instead of Spark Data Frames."
   ]
  },
  {
   "cell_type": "code",
   "execution_count": null,
   "id": "30c8f3b8",
   "metadata": {},
   "outputs": [],
   "source": [
    "from pyspark.sql import SparkSession\n",
    "\n",
    "spark = SparkSession.builder.appName(\"SparkSQL\").getOrCreate()\n",
    "user_log = spark.read.json(r\"D:\\Github\\Udacity-Spark\\sparkify_log_small.json\")\n",
    "user_log.show(5)\n",
    "# TODOS: \n",
    "# 1) import any other libraries you might need\n",
    "# 2) instantiate a Spark session \n",
    "# 3) read in the data set located at the path \"data/sparkify_log_small.json\"\n",
    "# 4) create a view to use with your SQL queries\n",
    "# 5) write code to answer the quiz questions "
   ]
  },
  {
   "cell_type": "code",
   "execution_count": null,
   "id": "a4e5d803",
   "metadata": {},
   "outputs": [],
   "source": [
    "# creating a temporary view inorder to query the data.\n",
    "\n",
    "user_log.createOrReplaceTempView(\"user_log_view\")\n",
    "spark.sql(\"\"\"\n",
    "          select userID, page from user_log_view            \n",
    "          \"\"\").show()\n"
   ]
  },
  {
   "cell_type": "markdown",
   "id": "48b2ae38",
   "metadata": {},
   "source": [
    "# Question 1\n",
    "\n",
    "Which page did user id \"\"(empty string) NOT visit?"
   ]
  },
  {
   "cell_type": "code",
   "execution_count": null,
   "id": "ef916f5a",
   "metadata": {},
   "outputs": [],
   "source": [
    "spark.sql(\"\"\"\n",
    "          select distinct page as PageNotVisited\n",
    "          from user_log_view\n",
    "          where page not in (select distinct page from user_log_view where userId = \"\")\n",
    "\n",
    "         \"\"\").show()"
   ]
  },
  {
   "cell_type": "code",
   "execution_count": null,
   "id": "ad044153",
   "metadata": {},
   "outputs": [],
   "source": [
    "spark.sql(\"\"\"\n",
    "          select distinct page as NotVisitedPages\n",
    "          from user_log_view\"\"\").show()"
   ]
  },
  {
   "cell_type": "markdown",
   "id": "8ed6087a",
   "metadata": {},
   "source": [
    "# Question 2 - Reflect\n",
    "\n",
    "Why might you prefer to use SQL over data frames? Why might you prefer data frames over SQL?"
   ]
  },
  {
   "cell_type": "markdown",
   "id": "03391fa9",
   "metadata": {},
   "source": [
    "# Question 3\n",
    "\n",
    "How many female users do we have in the data set?"
   ]
  },
  {
   "cell_type": "code",
   "execution_count": null,
   "id": "a4858ca1",
   "metadata": {},
   "outputs": [],
   "source": [
    "spark.sql\\\n",
    "(\"\"\"\n",
    "select count(distinct userId) as TotalFemales\n",
    "from user_log_view\n",
    "where gender = 'F'\n",
    "\"\"\").show()"
   ]
  },
  {
   "cell_type": "markdown",
   "id": "f3094c5c",
   "metadata": {},
   "source": [
    "# Question 4\n",
    "\n",
    "How many songs were played from the most played artist?"
   ]
  },
  {
   "cell_type": "code",
   "execution_count": null,
   "id": "b53cd52a",
   "metadata": {},
   "outputs": [],
   "source": [
    "user_log.printSchema()"
   ]
  },
  {
   "cell_type": "code",
   "execution_count": null,
   "id": "088977fa",
   "metadata": {},
   "outputs": [],
   "source": [
    "# TODO: write your code to answer question 4\n",
    "\n",
    "# Solution #1\n",
    "\n",
    "fam_artist = spark.sql(\"\"\"\n",
    "                       select artist, count(song) as total_songs\n",
    "                       from user_log_view\n",
    "                       group by artist\n",
    "                       order by total_songs desc\n",
    "                       \"\"\").collect()\n",
    "\n",
    "#fam_artist.createOrReplaceTempView(\"most_played_artist\")\n",
    "fam_artist_df = spark.createDataFrame(fam_artist, schema = ['artist', 'total_songs'])\n",
    "fam_artist_df.show()\n",
    "\n",
    "fam_artist_df.createOrReplaceTempView(\"most_played_artist_view\")\n",
    "spark.sql(\"select max(total_songs) from most_played_artist_view\").show()"
   ]
  },
  {
   "cell_type": "code",
   "execution_count": null,
   "id": "c678d473",
   "metadata": {},
   "outputs": [],
   "source": [
    "# Solution #2\n",
    "\n",
    "spark.sql(\"SELECT Artist, COUNT(Artist) AS plays \\\n",
    "        FROM user_log_view \\\n",
    "        GROUP BY Artist \\\n",
    "        ORDER BY plays DESC \\\n",
    "        LIMIT 1\").show()"
   ]
  },
  {
   "cell_type": "markdown",
   "id": "836fe958",
   "metadata": {},
   "source": [
    "# Question 5 (challenge)\n",
    "\n",
    "How many songs do users listen to on average between visiting our home page? Please round your answer to the closest integer."
   ]
  },
  {
   "cell_type": "code",
   "execution_count": null,
   "id": "ddb157d2",
   "metadata": {},
   "outputs": [],
   "source": [
    "# TODO: write your code to answer question 5"
   ]
  },
  {
   "cell_type": "code",
   "execution_count": null,
   "id": "4b7ad936",
   "metadata": {},
   "outputs": [],
   "source": [
    "# I HAVE NO IDEA WHAT THIS QUESTION IS TRYING TO CONVEY AND HENCE CANNOT WRITE THIS CODE!"
   ]
  }
 ],
 "metadata": {
  "kernelspec": {
   "display_name": "Python 3",
   "language": "python",
   "name": "python3"
  },
  "language_info": {
   "codemirror_mode": {
    "name": "ipython",
    "version": 3
   },
   "file_extension": ".py",
   "mimetype": "text/x-python",
   "name": "python",
   "nbconvert_exporter": "python",
   "pygments_lexer": "ipython3",
   "version": "3.8.8"
  }
 },
 "nbformat": 4,
 "nbformat_minor": 5
}
