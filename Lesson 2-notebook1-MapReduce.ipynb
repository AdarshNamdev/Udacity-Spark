{
 "cells": [
  {
   "cell_type": "code",
   "execution_count": 1,
   "id": "50716491",
   "metadata": {},
   "outputs": [
    {
     "name": "stdout",
     "output_type": "stream",
     "text": [
      "Collecting mrjob\n",
      "  Downloading mrjob-0.7.4-py2.py3-none-any.whl (439 kB)\n",
      "Requirement already satisfied: PyYAML>=3.10 in c:\\programdata\\anaconda3\\lib\\site-packages (from mrjob) (5.4.1)\n",
      "Installing collected packages: mrjob\n",
      "Successfully installed mrjob-0.7.4\n"
     ]
    }
   ],
   "source": [
    "# installing \"mrjob\" library. This package is for running the map-reduce jobs with Python.\n",
    "\n",
    "! pip install mrjob"
   ]
  },
  {
   "cell_type": "code",
   "execution_count": 12,
   "id": "93a70889",
   "metadata": {},
   "outputs": [
    {
     "name": "stdout",
     "output_type": "stream",
     "text": [
      "Overwriting wordcount.py\n"
     ]
    }
   ],
   "source": [
    "%%file wordcount.py\n",
    "# %%file is an Ipython magic function that saves the code cell as a file\n",
    "\n",
    "from mrjob.job import MRJob        # import the mrjob library\n",
    "\n",
    "class MRSongCount(MRJob):          # inheriting from 'MRJob' class\n",
    "    \"\"\"\n",
    "    the map step: each line in the txt file is read as a key, value pair.\n",
    "    in this case, each line in the txt file only contains a value but no key.\n",
    "    \"_\" means that in this case, there is no key for each line\n",
    "    \n",
    "    \"\"\"\n",
    "    \n",
    "    def mapper(self, _, song):     # overriding the 'mapper' function\n",
    "        \"\"\"\n",
    "        put each line as a tuple of (song_names, 1)\n",
    "        \n",
    "        \"\"\"\n",
    "        yield (song, 1)\n",
    "        \n",
    "        \n",
    "    \"\"\"\n",
    "    the reduce step: combine all tuples with the same key\n",
    "    in this case, the key is the song name\n",
    "    then sum all the values of the tuple, which will give the total song plays\n",
    "    \n",
    "    \"\"\"\n",
    "    \n",
    "    def reducer(self, key, values):  # overriding the 'reducer' function\n",
    "        yield (key, sum(values))\n",
    "        \n",
    "        \n",
    "if __name__ == \"__main__\":\n",
    "    MRSongCount.run()"
   ]
  },
  {
   "cell_type": "code",
   "execution_count": 13,
   "id": "bfc52939",
   "metadata": {},
   "outputs": [
    {
     "name": "stdout",
     "output_type": "stream",
     "text": [
      "\"Broken Networks\"\t510\n",
      "\"Data House Rock\"\t828\n",
      "\"Deep Dreams\"\t1131\n"
     ]
    },
    {
     "name": "stderr",
     "output_type": "stream",
     "text": [
      "No configs found; falling back on auto-configuration\n",
      "No configs specified for inline runner\n",
      "Creating temp directory C:\\Users\\Dell\\AppData\\Local\\Temp\\wordcount.Dell.20211101.153401.589440\n",
      "Running step 1 of 1...\n",
      "job output is in C:\\Users\\Dell\\AppData\\Local\\Temp\\wordcount.Dell.20211101.153401.589440\\output\n",
      "Streaming final output from C:\\Users\\Dell\\AppData\\Local\\Temp\\wordcount.Dell.20211101.153401.589440\\output...\n",
      "Removing temp directory C:\\Users\\Dell\\AppData\\Local\\Temp\\wordcount.Dell.20211101.153401.589440...\n"
     ]
    }
   ],
   "source": [
    "! python wordcount.py songsplay.txt"
   ]
  },
  {
   "cell_type": "code",
   "execution_count": 14,
   "id": "ffbcda48",
   "metadata": {},
   "outputs": [
    {
     "ename": "NameError",
     "evalue": "name 'MRSongCount' is not defined",
     "output_type": "error",
     "traceback": [
      "\u001b[1;31m---------------------------------------------------------------------------\u001b[0m",
      "\u001b[1;31mNameError\u001b[0m                                 Traceback (most recent call last)",
      "\u001b[1;32m<ipython-input-14-f757c0dadb4c>\u001b[0m in \u001b[0;36m<module>\u001b[1;34m\u001b[0m\n\u001b[1;32m----> 1\u001b[1;33m \u001b[0mworker\u001b[0m \u001b[1;33m=\u001b[0m \u001b[0mMRSongCount\u001b[0m\u001b[1;33m(\u001b[0m\u001b[1;34m\"songsplay.txt\"\u001b[0m\u001b[1;33m)\u001b[0m\u001b[1;33m\u001b[0m\u001b[1;33m\u001b[0m\u001b[0m\n\u001b[0m\u001b[0;32m      2\u001b[0m \u001b[0mworker\u001b[0m\u001b[1;33m.\u001b[0m\u001b[0mrun\u001b[0m\u001b[1;33m(\u001b[0m\u001b[1;33m)\u001b[0m\u001b[1;33m\u001b[0m\u001b[1;33m\u001b[0m\u001b[0m\n",
      "\u001b[1;31mNameError\u001b[0m: name 'MRSongCount' is not defined"
     ]
    }
   ],
   "source": [
    "worker = MRSongCount(\"songsplay.txt\")\n",
    "worker.run()"
   ]
  },
  {
   "cell_type": "code",
   "execution_count": 7,
   "id": "548d232b",
   "metadata": {},
   "outputs": [
    {
     "data": {
      "text/plain": [
       "3"
      ]
     },
     "execution_count": 7,
     "metadata": {},
     "output_type": "execute_result"
    }
   ],
   "source": [
    "log_of_songs = [\n",
    "                \"despacito\",\n",
    "                \"nice for what\",\n",
    "                \"no tears left to cry\",\n",
    "                \"despacito\",\n",
    "                \"havan\",\n",
    "                \"in my feelings\",\n",
    "                \"nice for what\",\n",
    "                \"despacito\",\n",
    "                \"all the stars\"\n",
    "                ]\n",
    "\n",
    "play_count = 0\n",
    "\n",
    "def count_plays(song_title):\n",
    "    global play_count\n",
    "    for song in log_of_songs:\n",
    "        if song == song_title:\n",
    "            play_count = play_count+1\n",
    "            \n",
    "    return play_count\n",
    "\n",
    "\n"
   ]
  },
  {
   "cell_type": "code",
   "execution_count": 8,
   "id": "261a1711",
   "metadata": {},
   "outputs": [
    {
     "data": {
      "text/plain": [
       "6"
      ]
     },
     "execution_count": 8,
     "metadata": {},
     "output_type": "execute_result"
    }
   ],
   "source": [
    "count_plays(\"despacito\")"
   ]
  },
  {
   "cell_type": "code",
   "execution_count": 9,
   "id": "da73d978",
   "metadata": {},
   "outputs": [
    {
     "data": {
      "text/plain": [
       "9"
      ]
     },
     "execution_count": 9,
     "metadata": {},
     "output_type": "execute_result"
    }
   ],
   "source": [
    "count_plays(\"despacito\")"
   ]
  },
  {
   "cell_type": "code",
   "execution_count": null,
   "id": "065ebcf9",
   "metadata": {},
   "outputs": [],
   "source": []
  },
  {
   "cell_type": "code",
   "execution_count": null,
   "id": "16f25b5f",
   "metadata": {},
   "outputs": [],
   "source": []
  },
  {
   "cell_type": "code",
   "execution_count": null,
   "id": "31e92aef",
   "metadata": {},
   "outputs": [],
   "source": []
  },
  {
   "cell_type": "code",
   "execution_count": null,
   "id": "d2bd0e38",
   "metadata": {},
   "outputs": [],
   "source": []
  }
 ],
 "metadata": {
  "kernelspec": {
   "display_name": "Python 3",
   "language": "python",
   "name": "python3"
  },
  "language_info": {
   "codemirror_mode": {
    "name": "ipython",
    "version": 3
   },
   "file_extension": ".py",
   "mimetype": "text/x-python",
   "name": "python",
   "nbconvert_exporter": "python",
   "pygments_lexer": "ipython3",
   "version": "3.8.8"
  }
 },
 "nbformat": 4,
 "nbformat_minor": 5
}
